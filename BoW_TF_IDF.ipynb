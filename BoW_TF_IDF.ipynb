{
  "nbformat": 4,
  "nbformat_minor": 0,
  "metadata": {
    "colab": {
      "provenance": []
    },
    "kernelspec": {
      "name": "python3",
      "display_name": "Python 3"
    },
    "language_info": {
      "name": "python"
    }
  },
  "cells": [
    {
      "cell_type": "code",
      "source": [
        "from google.colab import drive\n",
        "drive.mount('/content/drive')"
      ],
      "metadata": {
        "colab": {
          "base_uri": "https://localhost:8080/"
        },
        "id": "lYL3SPN2GZwE",
        "outputId": "70b41236-66c7-4e34-dde2-0cbb228baa3d"
      },
      "execution_count": 1,
      "outputs": [
        {
          "output_type": "stream",
          "name": "stdout",
          "text": [
            "Mounted at /content/drive\n"
          ]
        }
      ]
    },
    {
      "cell_type": "code",
      "source": [
        "## configuration\n",
        "\n",
        "embedding_size = 300 \n",
        "max_features = 120000 \n",
        "max_len = 750 \n",
        "batch_size = 512 \n",
        "n_epochs = 20\n",
        "debug = 0\n",
        "\n",
        "dataset_path = \"/content/drive/MyDrive/Datasets/hateXplain/\"\n",
        "data_filename = 'dataset.json'\n",
        "class_labels_filename = 'classes.npy'\n"
      ],
      "metadata": {
        "id": "V2pr4SojGbya"
      },
      "execution_count": 2,
      "outputs": []
    },
    {
      "cell_type": "code",
      "source": [
        "'''\n",
        "Convert json data to a dataframe\n",
        "1. convert json to dataframe\n",
        "2. Voting resolution\n",
        "3. Remove text samples that have 'undecided' class label\n",
        "'''\n",
        "\n",
        "import pandas as pd\n",
        "import numpy as np\n",
        "import json\n",
        "\n",
        "def get_data(dataset_path, data_filename, class_labels_filename):\n",
        "\n",
        "  data_path = dataset_path + data_filename\n",
        "  class_labels_path = dataset_path + class_labels_filename\n",
        "\n",
        "  with open(data_path, 'r') as f:\n",
        "    data = json.load(f)\n",
        "  data_dictionary = []\n",
        "  for key in data:\n",
        "    buffer = {}\n",
        "    buffer['post'] = data[key]['post_tokens']\n",
        "    final_label = []\n",
        "\n",
        "    for i in range(1, 4):\n",
        "      final_label.append(data[key]['annotators'][i-1]['label'])\n",
        "    \n",
        "    final_label_id = max(final_label, key = final_label.count)\n",
        "    buffer['rationales'] = data[key]['rationales']\n",
        "\n",
        "    if(final_label.count(final_label_id) == 1):\n",
        "      continue\n",
        "    else:\n",
        "      buffer['label'] = final_label_id\n",
        "    \n",
        "    data_dictionary.append(buffer)\n",
        "  return pd.DataFrame(data_dictionary)"
      ],
      "metadata": {
        "id": "dCNFtMDzG80r"
      },
      "execution_count": 3,
      "outputs": []
    },
    {
      "cell_type": "code",
      "source": [
        "data = get_data(dataset_path=dataset_path, data_filename=data_filename, class_labels_filename=class_labels_filename)\n"
      ],
      "metadata": {
        "id": "5cmP-SrJHErj"
      },
      "execution_count": 4,
      "outputs": []
    },
    {
      "cell_type": "code",
      "source": [
        "data.head()\t"
      ],
      "metadata": {
        "colab": {
          "base_uri": "https://localhost:8080/",
          "height": 206
        },
        "id": "EhBk7Q4tHGYb",
        "outputId": "67c89e24-5999-40ab-a9ec-50e6a3f13a61"
      },
      "execution_count": 5,
      "outputs": [
        {
          "output_type": "execute_result",
          "data": {
            "text/plain": [
              "                                                post  \\\n",
              "0  [i, dont, think, im, getting, my, baby, them, ...   \n",
              "1  [we, cannot, continue, calling, ourselves, fem...   \n",
              "2                [nawt, yall, niggers, ignoring, me]   \n",
              "3  [<user>, i, am, bit, confused, coz, chinese, p...   \n",
              "4  [this, bitch, in, whataburger, eating, a, burg...   \n",
              "\n",
              "                                          rationales       label  \n",
              "0                                                 []      normal  \n",
              "1                                                 []      normal  \n",
              "2                                                 []      normal  \n",
              "3  [[0, 0, 0, 0, 0, 0, 0, 0, 0, 0, 0, 0, 0, 0, 0,...  hatespeech  \n",
              "4  [[0, 1, 0, 0, 0, 0, 0, 0, 0, 0, 0, 0, 0, 0, 0,...  hatespeech  "
            ],
            "text/html": [
              "\n",
              "  <div id=\"df-acc689a1-cf9a-4f43-b818-194ffe2981e0\">\n",
              "    <div class=\"colab-df-container\">\n",
              "      <div>\n",
              "<style scoped>\n",
              "    .dataframe tbody tr th:only-of-type {\n",
              "        vertical-align: middle;\n",
              "    }\n",
              "\n",
              "    .dataframe tbody tr th {\n",
              "        vertical-align: top;\n",
              "    }\n",
              "\n",
              "    .dataframe thead th {\n",
              "        text-align: right;\n",
              "    }\n",
              "</style>\n",
              "<table border=\"1\" class=\"dataframe\">\n",
              "  <thead>\n",
              "    <tr style=\"text-align: right;\">\n",
              "      <th></th>\n",
              "      <th>post</th>\n",
              "      <th>rationales</th>\n",
              "      <th>label</th>\n",
              "    </tr>\n",
              "  </thead>\n",
              "  <tbody>\n",
              "    <tr>\n",
              "      <th>0</th>\n",
              "      <td>[i, dont, think, im, getting, my, baby, them, ...</td>\n",
              "      <td>[]</td>\n",
              "      <td>normal</td>\n",
              "    </tr>\n",
              "    <tr>\n",
              "      <th>1</th>\n",
              "      <td>[we, cannot, continue, calling, ourselves, fem...</td>\n",
              "      <td>[]</td>\n",
              "      <td>normal</td>\n",
              "    </tr>\n",
              "    <tr>\n",
              "      <th>2</th>\n",
              "      <td>[nawt, yall, niggers, ignoring, me]</td>\n",
              "      <td>[]</td>\n",
              "      <td>normal</td>\n",
              "    </tr>\n",
              "    <tr>\n",
              "      <th>3</th>\n",
              "      <td>[&lt;user&gt;, i, am, bit, confused, coz, chinese, p...</td>\n",
              "      <td>[[0, 0, 0, 0, 0, 0, 0, 0, 0, 0, 0, 0, 0, 0, 0,...</td>\n",
              "      <td>hatespeech</td>\n",
              "    </tr>\n",
              "    <tr>\n",
              "      <th>4</th>\n",
              "      <td>[this, bitch, in, whataburger, eating, a, burg...</td>\n",
              "      <td>[[0, 1, 0, 0, 0, 0, 0, 0, 0, 0, 0, 0, 0, 0, 0,...</td>\n",
              "      <td>hatespeech</td>\n",
              "    </tr>\n",
              "  </tbody>\n",
              "</table>\n",
              "</div>\n",
              "      <button class=\"colab-df-convert\" onclick=\"convertToInteractive('df-acc689a1-cf9a-4f43-b818-194ffe2981e0')\"\n",
              "              title=\"Convert this dataframe to an interactive table.\"\n",
              "              style=\"display:none;\">\n",
              "        \n",
              "  <svg xmlns=\"http://www.w3.org/2000/svg\" height=\"24px\"viewBox=\"0 0 24 24\"\n",
              "       width=\"24px\">\n",
              "    <path d=\"M0 0h24v24H0V0z\" fill=\"none\"/>\n",
              "    <path d=\"M18.56 5.44l.94 2.06.94-2.06 2.06-.94-2.06-.94-.94-2.06-.94 2.06-2.06.94zm-11 1L8.5 8.5l.94-2.06 2.06-.94-2.06-.94L8.5 2.5l-.94 2.06-2.06.94zm10 10l.94 2.06.94-2.06 2.06-.94-2.06-.94-.94-2.06-.94 2.06-2.06.94z\"/><path d=\"M17.41 7.96l-1.37-1.37c-.4-.4-.92-.59-1.43-.59-.52 0-1.04.2-1.43.59L10.3 9.45l-7.72 7.72c-.78.78-.78 2.05 0 2.83L4 21.41c.39.39.9.59 1.41.59.51 0 1.02-.2 1.41-.59l7.78-7.78 2.81-2.81c.8-.78.8-2.07 0-2.86zM5.41 20L4 18.59l7.72-7.72 1.47 1.35L5.41 20z\"/>\n",
              "  </svg>\n",
              "      </button>\n",
              "      \n",
              "  <style>\n",
              "    .colab-df-container {\n",
              "      display:flex;\n",
              "      flex-wrap:wrap;\n",
              "      gap: 12px;\n",
              "    }\n",
              "\n",
              "    .colab-df-convert {\n",
              "      background-color: #E8F0FE;\n",
              "      border: none;\n",
              "      border-radius: 50%;\n",
              "      cursor: pointer;\n",
              "      display: none;\n",
              "      fill: #1967D2;\n",
              "      height: 32px;\n",
              "      padding: 0 0 0 0;\n",
              "      width: 32px;\n",
              "    }\n",
              "\n",
              "    .colab-df-convert:hover {\n",
              "      background-color: #E2EBFA;\n",
              "      box-shadow: 0px 1px 2px rgba(60, 64, 67, 0.3), 0px 1px 3px 1px rgba(60, 64, 67, 0.15);\n",
              "      fill: #174EA6;\n",
              "    }\n",
              "\n",
              "    [theme=dark] .colab-df-convert {\n",
              "      background-color: #3B4455;\n",
              "      fill: #D2E3FC;\n",
              "    }\n",
              "\n",
              "    [theme=dark] .colab-df-convert:hover {\n",
              "      background-color: #434B5C;\n",
              "      box-shadow: 0px 1px 3px 1px rgba(0, 0, 0, 0.15);\n",
              "      filter: drop-shadow(0px 1px 2px rgba(0, 0, 0, 0.3));\n",
              "      fill: #FFFFFF;\n",
              "    }\n",
              "  </style>\n",
              "\n",
              "      <script>\n",
              "        const buttonEl =\n",
              "          document.querySelector('#df-acc689a1-cf9a-4f43-b818-194ffe2981e0 button.colab-df-convert');\n",
              "        buttonEl.style.display =\n",
              "          google.colab.kernel.accessAllowed ? 'block' : 'none';\n",
              "\n",
              "        async function convertToInteractive(key) {\n",
              "          const element = document.querySelector('#df-acc689a1-cf9a-4f43-b818-194ffe2981e0');\n",
              "          const dataTable =\n",
              "            await google.colab.kernel.invokeFunction('convertToInteractive',\n",
              "                                                     [key], {});\n",
              "          if (!dataTable) return;\n",
              "\n",
              "          const docLinkHtml = 'Like what you see? Visit the ' +\n",
              "            '<a target=\"_blank\" href=https://colab.research.google.com/notebooks/data_table.ipynb>data table notebook</a>'\n",
              "            + ' to learn more about interactive tables.';\n",
              "          element.innerHTML = '';\n",
              "          dataTable['output_type'] = 'display_data';\n",
              "          await google.colab.output.renderOutput(dataTable, element);\n",
              "          const docLink = document.createElement('div');\n",
              "          docLink.innerHTML = docLinkHtml;\n",
              "          element.appendChild(docLink);\n",
              "        }\n",
              "      </script>\n",
              "    </div>\n",
              "  </div>\n",
              "  "
            ]
          },
          "metadata": {},
          "execution_count": 5
        }
      ]
    },
    {
      "cell_type": "code",
      "source": [
        "one_hot = pd.get_dummies(data['label'])\n",
        "data = data.drop('label',axis = 1)\n",
        "data = data.join(one_hot)"
      ],
      "metadata": {
        "id": "1fWyxmxeHHvX"
      },
      "execution_count": 6,
      "outputs": []
    },
    {
      "cell_type": "code",
      "source": [
        "cleaned_posts = []\n",
        "\n",
        "for index, row in data.iterrows():\n",
        "  post = row['post']\n",
        "  post_str = ''\n",
        "  for word in post:\n",
        "    post_str = post_str + word + ' '\n",
        "    \n",
        "  cleaned_posts.append(post_str)\n",
        "\n",
        "data['posts'] = cleaned_posts\n",
        "  "
      ],
      "metadata": {
        "id": "TeZlhl7x6daN"
      },
      "execution_count": 7,
      "outputs": []
    },
    {
      "cell_type": "code",
      "source": [
        "data = data.drop(['post'], axis = 1)"
      ],
      "metadata": {
        "id": "EOm1Dzkk633r"
      },
      "execution_count": 8,
      "outputs": []
    },
    {
      "cell_type": "code",
      "source": [
        "data.head()"
      ],
      "metadata": {
        "colab": {
          "base_uri": "https://localhost:8080/",
          "height": 206
        },
        "id": "Ngegrg6M8mXt",
        "outputId": "82278d1e-91c5-4296-f26e-fad5ab61a384"
      },
      "execution_count": 9,
      "outputs": [
        {
          "output_type": "execute_result",
          "data": {
            "text/plain": [
              "                                          rationales  hatespeech  normal  \\\n",
              "0                                                 []           0       1   \n",
              "1                                                 []           0       1   \n",
              "2                                                 []           0       1   \n",
              "3  [[0, 0, 0, 0, 0, 0, 0, 0, 0, 0, 0, 0, 0, 0, 0,...           1       0   \n",
              "4  [[0, 1, 0, 0, 0, 0, 0, 0, 0, 0, 0, 0, 0, 0, 0,...           1       0   \n",
              "\n",
              "   offensive                                              posts  \n",
              "0          0  i dont think im getting my baby them white 9 h...  \n",
              "1          0  we cannot continue calling ourselves feminists...  \n",
              "2          0                     nawt yall niggers ignoring me   \n",
              "3          0  <user> i am bit confused coz chinese ppl can n...  \n",
              "4          0  this bitch in whataburger eating a burger with...  "
            ],
            "text/html": [
              "\n",
              "  <div id=\"df-49f8cd82-c591-45bf-9f49-1b17408007aa\">\n",
              "    <div class=\"colab-df-container\">\n",
              "      <div>\n",
              "<style scoped>\n",
              "    .dataframe tbody tr th:only-of-type {\n",
              "        vertical-align: middle;\n",
              "    }\n",
              "\n",
              "    .dataframe tbody tr th {\n",
              "        vertical-align: top;\n",
              "    }\n",
              "\n",
              "    .dataframe thead th {\n",
              "        text-align: right;\n",
              "    }\n",
              "</style>\n",
              "<table border=\"1\" class=\"dataframe\">\n",
              "  <thead>\n",
              "    <tr style=\"text-align: right;\">\n",
              "      <th></th>\n",
              "      <th>rationales</th>\n",
              "      <th>hatespeech</th>\n",
              "      <th>normal</th>\n",
              "      <th>offensive</th>\n",
              "      <th>posts</th>\n",
              "    </tr>\n",
              "  </thead>\n",
              "  <tbody>\n",
              "    <tr>\n",
              "      <th>0</th>\n",
              "      <td>[]</td>\n",
              "      <td>0</td>\n",
              "      <td>1</td>\n",
              "      <td>0</td>\n",
              "      <td>i dont think im getting my baby them white 9 h...</td>\n",
              "    </tr>\n",
              "    <tr>\n",
              "      <th>1</th>\n",
              "      <td>[]</td>\n",
              "      <td>0</td>\n",
              "      <td>1</td>\n",
              "      <td>0</td>\n",
              "      <td>we cannot continue calling ourselves feminists...</td>\n",
              "    </tr>\n",
              "    <tr>\n",
              "      <th>2</th>\n",
              "      <td>[]</td>\n",
              "      <td>0</td>\n",
              "      <td>1</td>\n",
              "      <td>0</td>\n",
              "      <td>nawt yall niggers ignoring me</td>\n",
              "    </tr>\n",
              "    <tr>\n",
              "      <th>3</th>\n",
              "      <td>[[0, 0, 0, 0, 0, 0, 0, 0, 0, 0, 0, 0, 0, 0, 0,...</td>\n",
              "      <td>1</td>\n",
              "      <td>0</td>\n",
              "      <td>0</td>\n",
              "      <td>&lt;user&gt; i am bit confused coz chinese ppl can n...</td>\n",
              "    </tr>\n",
              "    <tr>\n",
              "      <th>4</th>\n",
              "      <td>[[0, 1, 0, 0, 0, 0, 0, 0, 0, 0, 0, 0, 0, 0, 0,...</td>\n",
              "      <td>1</td>\n",
              "      <td>0</td>\n",
              "      <td>0</td>\n",
              "      <td>this bitch in whataburger eating a burger with...</td>\n",
              "    </tr>\n",
              "  </tbody>\n",
              "</table>\n",
              "</div>\n",
              "      <button class=\"colab-df-convert\" onclick=\"convertToInteractive('df-49f8cd82-c591-45bf-9f49-1b17408007aa')\"\n",
              "              title=\"Convert this dataframe to an interactive table.\"\n",
              "              style=\"display:none;\">\n",
              "        \n",
              "  <svg xmlns=\"http://www.w3.org/2000/svg\" height=\"24px\"viewBox=\"0 0 24 24\"\n",
              "       width=\"24px\">\n",
              "    <path d=\"M0 0h24v24H0V0z\" fill=\"none\"/>\n",
              "    <path d=\"M18.56 5.44l.94 2.06.94-2.06 2.06-.94-2.06-.94-.94-2.06-.94 2.06-2.06.94zm-11 1L8.5 8.5l.94-2.06 2.06-.94-2.06-.94L8.5 2.5l-.94 2.06-2.06.94zm10 10l.94 2.06.94-2.06 2.06-.94-2.06-.94-.94-2.06-.94 2.06-2.06.94z\"/><path d=\"M17.41 7.96l-1.37-1.37c-.4-.4-.92-.59-1.43-.59-.52 0-1.04.2-1.43.59L10.3 9.45l-7.72 7.72c-.78.78-.78 2.05 0 2.83L4 21.41c.39.39.9.59 1.41.59.51 0 1.02-.2 1.41-.59l7.78-7.78 2.81-2.81c.8-.78.8-2.07 0-2.86zM5.41 20L4 18.59l7.72-7.72 1.47 1.35L5.41 20z\"/>\n",
              "  </svg>\n",
              "      </button>\n",
              "      \n",
              "  <style>\n",
              "    .colab-df-container {\n",
              "      display:flex;\n",
              "      flex-wrap:wrap;\n",
              "      gap: 12px;\n",
              "    }\n",
              "\n",
              "    .colab-df-convert {\n",
              "      background-color: #E8F0FE;\n",
              "      border: none;\n",
              "      border-radius: 50%;\n",
              "      cursor: pointer;\n",
              "      display: none;\n",
              "      fill: #1967D2;\n",
              "      height: 32px;\n",
              "      padding: 0 0 0 0;\n",
              "      width: 32px;\n",
              "    }\n",
              "\n",
              "    .colab-df-convert:hover {\n",
              "      background-color: #E2EBFA;\n",
              "      box-shadow: 0px 1px 2px rgba(60, 64, 67, 0.3), 0px 1px 3px 1px rgba(60, 64, 67, 0.15);\n",
              "      fill: #174EA6;\n",
              "    }\n",
              "\n",
              "    [theme=dark] .colab-df-convert {\n",
              "      background-color: #3B4455;\n",
              "      fill: #D2E3FC;\n",
              "    }\n",
              "\n",
              "    [theme=dark] .colab-df-convert:hover {\n",
              "      background-color: #434B5C;\n",
              "      box-shadow: 0px 1px 3px 1px rgba(0, 0, 0, 0.15);\n",
              "      filter: drop-shadow(0px 1px 2px rgba(0, 0, 0, 0.3));\n",
              "      fill: #FFFFFF;\n",
              "    }\n",
              "  </style>\n",
              "\n",
              "      <script>\n",
              "        const buttonEl =\n",
              "          document.querySelector('#df-49f8cd82-c591-45bf-9f49-1b17408007aa button.colab-df-convert');\n",
              "        buttonEl.style.display =\n",
              "          google.colab.kernel.accessAllowed ? 'block' : 'none';\n",
              "\n",
              "        async function convertToInteractive(key) {\n",
              "          const element = document.querySelector('#df-49f8cd82-c591-45bf-9f49-1b17408007aa');\n",
              "          const dataTable =\n",
              "            await google.colab.kernel.invokeFunction('convertToInteractive',\n",
              "                                                     [key], {});\n",
              "          if (!dataTable) return;\n",
              "\n",
              "          const docLinkHtml = 'Like what you see? Visit the ' +\n",
              "            '<a target=\"_blank\" href=https://colab.research.google.com/notebooks/data_table.ipynb>data table notebook</a>'\n",
              "            + ' to learn more about interactive tables.';\n",
              "          element.innerHTML = '';\n",
              "          dataTable['output_type'] = 'display_data';\n",
              "          await google.colab.output.renderOutput(dataTable, element);\n",
              "          const docLink = document.createElement('div');\n",
              "          docLink.innerHTML = docLinkHtml;\n",
              "          element.appendChild(docLink);\n",
              "        }\n",
              "      </script>\n",
              "    </div>\n",
              "  </div>\n",
              "  "
            ]
          },
          "metadata": {},
          "execution_count": 9
        }
      ]
    },
    {
      "cell_type": "code",
      "source": [
        "y_cols = list(data.columns[1:4])\n",
        "print(y_cols)\n",
        "is_multilabel = (data[y_cols].sum(axis=1) >1).count()"
      ],
      "metadata": {
        "colab": {
          "base_uri": "https://localhost:8080/"
        },
        "id": "f9e0vMwO7nWE",
        "outputId": "2cb95e4a-a34e-48e2-b545-50c094a90952"
      },
      "execution_count": 10,
      "outputs": [
        {
          "output_type": "stream",
          "name": "stdout",
          "text": [
            "['hatespeech', 'normal', 'offensive']\n"
          ]
        }
      ]
    },
    {
      "cell_type": "code",
      "source": [
        "def get_class_weight(data):\n",
        "    class_weight = {}\n",
        "    for num,col in enumerate(y_cols):\n",
        "        if num not in class_weight:\n",
        "            class_weight[col] = round((data[data[col] == 1][col].sum())/data.shape[0]*100,2)\n",
        "    return class_weight\n",
        "class_weight = get_class_weight(data)\n",
        "print('Total class weight: ', sum(class_weight.values()), '%\\n\\n', class_weight)"
      ],
      "metadata": {
        "colab": {
          "base_uri": "https://localhost:8080/"
        },
        "id": "QqhOmb1u8Znn",
        "outputId": "22cae974-5ec8-4da4-a74f-7402105ed4b2"
      },
      "execution_count": 11,
      "outputs": [
        {
          "output_type": "stream",
          "name": "stdout",
          "text": [
            "Total class weight:  100.0 %\n",
            "\n",
            " {'hatespeech': 30.86, 'normal': 40.64, 'offensive': 28.5}\n"
          ]
        }
      ]
    },
    {
      "cell_type": "code",
      "source": [
        "from sklearn.model_selection import train_test_split\n",
        "def get_train_test_val(data):\n",
        "    X_data = data['posts'].values\n",
        "    y_data = data[list(data.columns[1:4])].values\n",
        "    X, X_test, y, y_test = train_test_split(X_data, y_data, test_size=0.1, train_size=0.9)\n",
        "    X_train = X\n",
        "    y_train = y\n",
        "\n",
        "    print(\n",
        "        'X_train shape', X_train.shape,\n",
        "        '\\ny_train shape', y_train.shape,\n",
        "        '\\nX_test shape', X_test.shape,\n",
        "        '\\ny_test shape', y_test.shape,\n",
        "    )\n",
        "    return X_train, X_test, y_train, y_test\n",
        "\n",
        "X_train, X_test, y_train, y_test = get_train_test_val(data)"
      ],
      "metadata": {
        "colab": {
          "base_uri": "https://localhost:8080/"
        },
        "id": "kJ4eBVaw82jU",
        "outputId": "ee44d477-c79f-405c-8d87-79d1cd34c804"
      },
      "execution_count": 12,
      "outputs": [
        {
          "output_type": "stream",
          "name": "stdout",
          "text": [
            "X_train shape (17306,) \n",
            "y_train shape (17306, 3) \n",
            "X_test shape (1923,) \n",
            "y_test shape (1923, 3)\n"
          ]
        }
      ]
    },
    {
      "cell_type": "code",
      "source": [
        "y_train[0]"
      ],
      "metadata": {
        "colab": {
          "base_uri": "https://localhost:8080/"
        },
        "id": "mHSmp_7QArc8",
        "outputId": "2ac3d6fa-1a1e-4642-c885-b70b4680a851"
      },
      "execution_count": 13,
      "outputs": [
        {
          "output_type": "execute_result",
          "data": {
            "text/plain": [
              "array([0, 1, 0], dtype=uint8)"
            ]
          },
          "metadata": {},
          "execution_count": 13
        }
      ]
    },
    {
      "cell_type": "markdown",
      "source": [
        "### Text Preprocessing"
      ],
      "metadata": {
        "id": "08Aqj2Yf9hk9"
      }
    },
    {
      "cell_type": "code",
      "source": [
        "import numpy as np\n",
        "import nltk\n",
        "nltk.download('stopwords')\n",
        "from nltk.corpus import stopwords\n",
        "nltk.download('punkt')\n",
        "import re"
      ],
      "metadata": {
        "colab": {
          "base_uri": "https://localhost:8080/"
        },
        "id": "oC-UBUkR9ZPb",
        "outputId": "99e969c0-84bc-473c-8933-ce4aa3913e96"
      },
      "execution_count": 14,
      "outputs": [
        {
          "output_type": "stream",
          "name": "stderr",
          "text": [
            "[nltk_data] Downloading package stopwords to /root/nltk_data...\n",
            "[nltk_data]   Unzipping corpora/stopwords.zip.\n",
            "[nltk_data] Downloading package punkt to /root/nltk_data...\n",
            "[nltk_data]   Unzipping tokenizers/punkt.zip.\n"
          ]
        }
      ]
    },
    {
      "cell_type": "code",
      "source": [
        "REPLACE_BY_SPACE_RE = re.compile('[/(){}\\[\\]\\|@,;]')\n",
        "BAD_SYMBOLS_RE = re.compile('[^0-9a-z #+_]')\n",
        "STOPWORDS = set(stopwords.words('english'))\n",
        "REPLACE_IP_ADDRESS = re.compile(r'\\b(?:[0-9]{1,3}\\.){3}[0-9]{1,3}\\b')\n",
        "\n",
        "def text_prepare(text):\n",
        "    \"\"\"\n",
        "        text: a string\n",
        "        \n",
        "        return: modified initial string\n",
        "    \"\"\"\n",
        "    text = text.replace('\\n', ' ').lower()# lowercase text\n",
        "    text = REPLACE_IP_ADDRESS.sub('', text) # remove ip address\n",
        "    text = REPLACE_BY_SPACE_RE.sub(' ',text)# replace REPLACE_BY_SPACE_RE symbols by space in text\n",
        "    text = BAD_SYMBOLS_RE.sub('',text)# delete symbols which are in BAD_SYMBOLS_RE from text\n",
        "    text = ' '.join([w for w in text.split() if not w in STOPWORDS])# delete stopwords from text\n",
        "    return text\n",
        "\n",
        "X_train = [text_prepare(x) for x in X_train]\n",
        "X_test = [text_prepare(x) for x in X_test]\n",
        "X_train[:1]"
      ],
      "metadata": {
        "colab": {
          "base_uri": "https://localhost:8080/"
        },
        "id": "E81bDZcH9lsF",
        "outputId": "13ab5bc2-9296-4997-92ce-e68f6ce34e12"
      },
      "execution_count": 15,
      "outputs": [
        {
          "output_type": "execute_result",
          "data": {
            "text/plain": [
              "['kim lip dykes']"
            ]
          },
          "metadata": {},
          "execution_count": 15
        }
      ]
    },
    {
      "cell_type": "markdown",
      "source": [
        "### Bag of Words Model"
      ],
      "metadata": {
        "id": "2isJ85df9tv3"
      }
    },
    {
      "cell_type": "code",
      "source": [
        "from scipy import sparse as sp_sparse\n"
      ],
      "metadata": {
        "id": "fVs97asG9tH_"
      },
      "execution_count": 16,
      "outputs": []
    },
    {
      "cell_type": "code",
      "source": [
        "# Dictionary of all words from train corpus with their counts.\n",
        "words_counts = {}\n",
        "for comments in X_train:\n",
        "    for word in comments.split():\n",
        "        if word not in words_counts:\n",
        "            words_counts[word] = 1\n",
        "        words_counts[word] += 1\n",
        "        \n",
        "DICT_SIZE = 10000\n",
        "POPULAR_WORDS = sorted(words_counts, key=words_counts.get, reverse=True)[:DICT_SIZE]\n",
        "WORDS_TO_INDEX = {key: rank for rank, key in enumerate(POPULAR_WORDS, 0)}\n",
        "INDEX_TO_WORDS = {index:word for word, index in WORDS_TO_INDEX.items()}\n",
        "ALL_WORDS = WORDS_TO_INDEX.keys()"
      ],
      "metadata": {
        "id": "UlfHs_Kq9niF"
      },
      "execution_count": 17,
      "outputs": []
    },
    {
      "cell_type": "code",
      "source": [
        "def my_bag_of_words(text, words_to_index, dict_size):\n",
        "    \"\"\"\n",
        "        text: a string\n",
        "        dict_size: size of the dictionary\n",
        "        \n",
        "        return a vector which is a bag-of-words representation of 'text'\n",
        "    \"\"\"\n",
        "    result_vector = np.zeros(dict_size)\n",
        "    for word in text.split(' '):\n",
        "        if word in words_to_index:\n",
        "            result_vector[words_to_index[word]] +=1\n",
        "    return result_vector\n",
        "\n",
        "X_train_mybag = sp_sparse.vstack([sp_sparse.csr_matrix(my_bag_of_words(text, WORDS_TO_INDEX, DICT_SIZE)) for text in X_train])\n",
        "X_test_mybag = sp_sparse.vstack([sp_sparse.csr_matrix(my_bag_of_words(text, WORDS_TO_INDEX, DICT_SIZE)) for text in X_test])\n",
        "print('X_train shape ', X_train_mybag.shape, '\\nX_test shape ', X_test_mybag.shape)"
      ],
      "metadata": {
        "colab": {
          "base_uri": "https://localhost:8080/"
        },
        "id": "2BbTlHO792EU",
        "outputId": "296644ee-a75c-44c2-bbc8-aa41b34ca51b"
      },
      "execution_count": 18,
      "outputs": [
        {
          "output_type": "stream",
          "name": "stdout",
          "text": [
            "X_train shape  (17306, 10000) \n",
            "X_test shape  (1923, 10000)\n"
          ]
        }
      ]
    },
    {
      "cell_type": "code",
      "source": [
        "POPULAR_WORDS[:10]\n"
      ],
      "metadata": {
        "colab": {
          "base_uri": "https://localhost:8080/"
        },
        "id": "qkVn78FD92Zc",
        "outputId": "966e0c5c-34ae-4c13-ca13-943327ac2fe3"
      },
      "execution_count": 19,
      "outputs": [
        {
          "output_type": "execute_result",
          "data": {
            "text/plain": [
              "['user',\n",
              " 'white',\n",
              " 'number',\n",
              " 'like',\n",
              " 'nigger',\n",
              " 'people',\n",
              " 'women',\n",
              " 'get',\n",
              " 'jews',\n",
              " 'one']"
            ]
          },
          "metadata": {},
          "execution_count": 19
        }
      ]
    },
    {
      "cell_type": "markdown",
      "source": [
        "### TF-IDF"
      ],
      "metadata": {
        "id": "DxAaz59Gteqz"
      }
    },
    {
      "cell_type": "code",
      "source": [
        "from sklearn.feature_extraction.text import TfidfVectorizer\n",
        "\n",
        "def tfidf_features(X_train, X_test):\n",
        "    # Create TF-IDF vectorizer with a proper parameters choice\n",
        "    tfidf_vectorizer = TfidfVectorizer(ngram_range=(1,2), max_df=0.9, min_df=5)#, token_pattern='(\\S+)')\n",
        "    # Fit the vectorizer on the train set\n",
        "    X_train_tfidf = tfidf_vectorizer.fit_transform(X_train)\n",
        "    # Transform the train, test set and return the result\n",
        "    X_test_tfidf = tfidf_vectorizer.transform(X_test)\n",
        "    \n",
        "    return X_train_tfidf, X_test_tfidf, tfidf_vectorizer.vocabulary_\n",
        "\n",
        "X_train_tfidf, X_test_tfidf, tfidf_vocab = tfidf_features(X_train, X_test)\n",
        "tfidf_reversed_vocab = {i:word for word,i in tfidf_vocab.items()}"
      ],
      "metadata": {
        "id": "t7KpUa7YtjcO"
      },
      "execution_count": 20,
      "outputs": []
    },
    {
      "cell_type": "markdown",
      "source": [
        "### Classifier"
      ],
      "metadata": {
        "id": "e-6Eh1KpBoKK"
      }
    },
    {
      "cell_type": "code",
      "source": [
        "from sklearn.multiclass import OneVsRestClassifier\n",
        "from sklearn.linear_model import LogisticRegression, RidgeClassifier\n",
        "\n",
        "def train_classifier(X_train, y_train, C, regularisation):\n",
        "    \n",
        "    # Create and fit LogisticRegression wrapped into OneVsRestClassifier.\n",
        "\n",
        "    model = OneVsRestClassifier(LogisticRegression(penalty=regularisation, C=C, max_iter=10000)).fit(X_train, y_train)\n",
        "    return model\n",
        "\n",
        "classifier_mybag = train_classifier(X_train_mybag, y_train, C = 4, regularisation = 'l2')\n",
        "classifier_tfidf = train_classifier(X_train_tfidf, y_train, C = 4, regularisation = 'l2')\n",
        "\n",
        "y_test_predicted_labels_mybag = classifier_mybag.predict(X_test_mybag)\n",
        "y_test_predicted_labels_tfidf = classifier_tfidf.predict(X_test_tfidf)\n"
      ],
      "metadata": {
        "id": "Ku1nDFhZ-oEm"
      },
      "execution_count": 21,
      "outputs": []
    },
    {
      "cell_type": "code",
      "source": [
        "\n",
        "# y_test_predicted_scores_mybag = classifier_mybag.decision_function(X_test_mybag)\n",
        "# y_test_predicted_scores_tfidf = classifier_tfidf.decision_function(X_test_tfidf)\n"
      ],
      "metadata": {
        "id": "T2lXCJi_BKhi"
      },
      "execution_count": 22,
      "outputs": []
    },
    {
      "cell_type": "code",
      "source": [
        "'''\n",
        "  Confusion Matrix for BoW Method\n",
        "'''\n",
        "\n",
        "import matplotlib.pyplot as plt\n",
        "from sklearn.metrics import confusion_matrix\n",
        "confusion_mat = confusion_matrix(\n",
        "    y_test.argmax(axis=1), y_test_predicted_labels_mybag.argmax(axis=1))\n",
        "\n",
        "import seaborn as sns\n",
        "plt.subplots(figsize=(10,5))\n",
        "sns.heatmap(confusion_mat, annot=True)\n",
        "plt.xlabel('Predicted_mybag')\n",
        "plt.ylabel('Actual_labels')"
      ],
      "metadata": {
        "colab": {
          "base_uri": "https://localhost:8080/",
          "height": 353
        },
        "id": "ZI91xiplBMu7",
        "outputId": "63c5c6dc-2193-43c6-9733-2bf92ec43f49"
      },
      "execution_count": 23,
      "outputs": [
        {
          "output_type": "execute_result",
          "data": {
            "text/plain": [
              "Text(69.0, 0.5, 'Actual_labels')"
            ]
          },
          "metadata": {},
          "execution_count": 23
        },
        {
          "output_type": "display_data",
          "data": {
            "text/plain": [
              "<Figure size 720x360 with 2 Axes>"
            ],
            "image/png": "[encoded data removed]"
          },
          "metadata": {
            "needs_background": "light"
          }
        }
      ]
    },
    {
      "cell_type": "code",
      "source": [
        "'''\n",
        "  Confusion Matrix for TF-IDF Method\n",
        "'''\n",
        "\n",
        "import matplotlib.pyplot as plt\n",
        "from sklearn.metrics import confusion_matrix\n",
        "confusion_mat = confusion_matrix(\n",
        "    y_test.argmax(axis=1), y_test_predicted_labels_tfidf.argmax(axis=1))\n",
        "\n",
        "import seaborn as sns\n",
        "plt.subplots(figsize=(10,5))\n",
        "sns.heatmap(confusion_mat, annot=True)\n",
        "plt.xlabel('Predicted_tfidf')\n",
        "plt.ylabel('Actual_labels')"
      ],
      "metadata": {
        "colab": {
          "base_uri": "https://localhost:8080/",
          "height": 353
        },
        "id": "NJSTAeZzwzJc",
        "outputId": "750bf08b-77bb-467e-fcb9-96a2220b8b51"
      },
      "execution_count": 24,
      "outputs": [
        {
          "output_type": "execute_result",
          "data": {
            "text/plain": [
              "Text(69.0, 0.5, 'Actual_labels')"
            ]
          },
          "metadata": {},
          "execution_count": 24
        },
        {
          "output_type": "display_data",
          "data": {
            "text/plain": [
              "<Figure size 720x360 with 2 Axes>"
            ],
            "image/png": "[encoded data removed]"
          },
          "metadata": {
            "needs_background": "light"
          }
        }
      ]
    },
    {
      "cell_type": "markdown",
      "source": [
        "### Evaluation on TEST DATA"
      ],
      "metadata": {
        "id": "N9iB5r0rBlit"
      }
    },
    {
      "cell_type": "code",
      "source": [
        "from sklearn.metrics import accuracy_score\n",
        "from sklearn.metrics import f1_score\n",
        "from sklearn.metrics import roc_auc_score \n",
        "from sklearn.metrics import average_precision_score\n",
        "from sklearn.metrics import recall_score"
      ],
      "metadata": {
        "id": "gTlIF9tG-Bbm"
      },
      "execution_count": 26,
      "outputs": []
    },
    {
      "cell_type": "code",
      "source": [
        "classifier_mybag = train_classifier(X_train_mybag, y_train, C = 50, regularisation = 'l2')\n",
        "\n",
        "y_test_predicted_labels_mybag = classifier_mybag.predict(X_test_mybag)\n",
        "\n",
        "def print_evaluation_scores(y_test, predicted):\n",
        "    \n",
        "    print('Accuracy: ', accuracy_score(y_test, predicted, normalize=True))\n",
        "    print('F1-score macro: ', f1_score(y_test, predicted, average='macro'))\n",
        "    print('F1-score micro: ', f1_score(y_test, predicted, average='micro'))\n",
        "    print('F1-score weighted: ', f1_score(y_test, predicted, average='weighted'))\n",
        "    print('Precision macro: ', average_precision_score(y_test, predicted, average='macro'))\n",
        "    print('Precision micro: ', average_precision_score(y_test, predicted, average='micro'))\n",
        "    print('Precision weighted: ', average_precision_score(y_test, predicted, average='weighted'))\n",
        "    \n",
        "print('Bag-of-words\\n')\n",
        "print_evaluation_scores(y_test, y_test_predicted_labels_mybag)\n"
      ],
      "metadata": {
        "colab": {
          "base_uri": "https://localhost:8080/"
        },
        "id": "qPPeRPG1-dKi",
        "outputId": "9e86ee2a-2867-4265-95ec-a1ad3d84917d"
      },
      "execution_count": 27,
      "outputs": [
        {
          "output_type": "stream",
          "name": "stdout",
          "text": [
            "Bag-of-words\n",
            "\n",
            "Accuracy:  0.4420176807072283\n",
            "F1-score macro:  0.5395270067847387\n",
            "F1-score micro:  0.5547140245494907\n",
            "F1-score weighted:  0.5535629518651536\n",
            "Precision macro:  0.45240286350499864\n",
            "Precision micro:  0.456959684473423\n",
            "Precision weighted:  0.46739392317660533\n"
          ]
        }
      ]
    },
    {
      "cell_type": "code",
      "source": [
        "y_test_predicted_labels_mybag"
      ],
      "metadata": {
        "colab": {
          "base_uri": "https://localhost:8080/"
        },
        "id": "rt-R3U7kdBCb",
        "outputId": "9a0b5e75-c55e-4271-efe7-20329c35fb27"
      },
      "execution_count": 28,
      "outputs": [
        {
          "output_type": "execute_result",
          "data": {
            "text/plain": [
              "array([[0, 0, 1],\n",
              "       [1, 0, 0],\n",
              "       [0, 1, 0],\n",
              "       ...,\n",
              "       [0, 1, 0],\n",
              "       [1, 0, 0],\n",
              "       [0, 1, 0]])"
            ]
          },
          "metadata": {},
          "execution_count": 28
        }
      ]
    },
    {
      "cell_type": "code",
      "source": [
        "classifier_tfidf = train_classifier(X_train_tfidf, y_train, C = 50, regularisation = 'l2')\n",
        "\n",
        "y_test_predicted_labels_tfidf = classifier_tfidf.predict(X_test_tfidf)\n",
        "\n",
        "def print_evaluation_scores(y_test, predicted):\n",
        "    \n",
        "    print('Accuracy: ', accuracy_score(y_test, predicted, normalize=True))\n",
        "    print('F1-score macro: ', f1_score(y_test, predicted, average='macro'))\n",
        "    print('F1-score micro: ', f1_score(y_test, predicted, average='micro'))\n",
        "    print('F1-score weighted: ', f1_score(y_test, predicted, average='weighted'))\n",
        "    print('Precision macro: ', average_precision_score(y_test, predicted, average='macro'))\n",
        "    print('Precision micro: ', average_precision_score(y_test, predicted, average='micro'))\n",
        "    print('Precision weighted: ', average_precision_score(y_test, predicted, average='weighted'))\n",
        "    \n",
        "print('TF-IDF\\n')\n",
        "print_evaluation_scores(y_test, y_test_predicted_labels_tfidf)\n"
      ],
      "metadata": {
        "colab": {
          "base_uri": "https://localhost:8080/"
        },
        "id": "L0Yh34ICxovp",
        "outputId": "9d3481f9-c623-4560-a7d4-646ad6de4c68"
      },
      "execution_count": 30,
      "outputs": [
        {
          "output_type": "stream",
          "name": "stdout",
          "text": [
            "TF-IDF\n",
            "\n",
            "Accuracy:  0.49349973998959956\n",
            "F1-score macro:  0.5799524440177798\n",
            "F1-score micro:  0.5909580193756728\n",
            "F1-score weighted:  0.5885371909140918\n",
            "Precision macro:  0.4901128308693397\n",
            "Precision micro:  0.49266503844760595\n",
            "Precision weighted:  0.49828192669385346\n"
          ]
        }
      ]
    },
    {
      "cell_type": "code",
      "source": [],
      "metadata": {
        "id": "bQJKjjCKx5JL"
      },
      "execution_count": null,
      "outputs": []
    }
  ]
}