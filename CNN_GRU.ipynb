{
  "nbformat": 4,
  "nbformat_minor": 0,
  "metadata": {
    "colab": {
      "provenance": []
    },
    "kernelspec": {
      "name": "python3",
      "display_name": "Python 3"
    },
    "language_info": {
      "name": "python"
    },
    "gpuClass": "standard"
  },
  "cells": [
    {
      "cell_type": "code",
      "source": [
        "from google.colab import drive\n",
        "drive.mount('/content/drive')"
      ],
      "metadata": {
        "colab": {
          "base_uri": "https://localhost:8080/"
        },
        "id": "lYL3SPN2GZwE",
        "outputId": "9184e418-faf6-4734-dbd6-0519e4d3c8d3"
      },
      "execution_count": 11,
      "outputs": [
        {
          "output_type": "stream",
          "name": "stdout",
          "text": [
            "Drive already mounted at /content/drive; to attempt to forcibly remount, call drive.mount(\"/content/drive\", force_remount=True).\n"
          ]
        }
      ]
    },
    {
      "cell_type": "code",
      "source": [
        "## configuration\n",
        "\n",
        "embed_size = 300 # how big is each word vector\n",
        "max_features = 120000 # how many unique words to use (i.e num rows in embedding vector)\n",
        "maxlen = 120 # max number of words in a question to use\n",
        "batch_size = 512 # how many samples to process at once\n",
        "n_epochs = 50 # how many times to iterate over all samples\n",
        "\n",
        "dataset_path = \"/content/drive/MyDrive/Datasets/hateXplain/\"\n",
        "data_filename = 'dataset.json'\n",
        "class_labels_filename = 'classes.npy'\n",
        "embeddings_file_path = dataset_path + 'glove.840B.300d.txt'\n",
        "max_words = 10000\n",
        "embedding_dim = 300\n"
      ],
      "metadata": {
        "id": "V2pr4SojGbya"
      },
      "execution_count": 12,
      "outputs": []
    },
    {
      "cell_type": "code",
      "source": [
        "'''\n",
        "Convert json data to a dataframe\n",
        "1. convert json to dataframe\n",
        "2. Voting resolution\n",
        "3. Remove text samples that have 'undecided' class label\n",
        "'''\n",
        "\n",
        "import pandas as pd\n",
        "import numpy as np\n",
        "import json\n",
        "\n",
        "def get_data(dataset_path, data_filename, class_labels_filename):\n",
        "\n",
        "  data_path = dataset_path + data_filename\n",
        "  class_labels_path = dataset_path + class_labels_filename\n",
        "\n",
        "  with open(data_path, 'r') as f:\n",
        "    data = json.load(f)\n",
        "  data_dictionary = []\n",
        "  for key in data:\n",
        "    buffer = {}\n",
        "    buffer['post'] = data[key]['post_tokens']\n",
        "    final_label = []\n",
        "\n",
        "    for i in range(1, 4):\n",
        "      final_label.append(data[key]['annotators'][i-1]['label'])\n",
        "    \n",
        "    final_label_id = max(final_label, key = final_label.count)\n",
        "    buffer['rationales'] = data[key]['rationales']\n",
        "\n",
        "    if(final_label.count(final_label_id) == 1):\n",
        "      continue\n",
        "    else:\n",
        "      buffer['label'] = final_label_id\n",
        "    \n",
        "    data_dictionary.append(buffer)\n",
        "  return pd.DataFrame(data_dictionary)"
      ],
      "metadata": {
        "id": "dCNFtMDzG80r"
      },
      "execution_count": 13,
      "outputs": []
    },
    {
      "cell_type": "code",
      "source": [
        "data = get_data(dataset_path=dataset_path, data_filename=data_filename, class_labels_filename=class_labels_filename)\n"
      ],
      "metadata": {
        "id": "5cmP-SrJHErj"
      },
      "execution_count": 14,
      "outputs": []
    },
    {
      "cell_type": "code",
      "source": [
        "data.head()\t"
      ],
      "metadata": {
        "colab": {
          "base_uri": "https://localhost:8080/",
          "height": 206
        },
        "id": "EhBk7Q4tHGYb",
        "outputId": "e13bfcb3-4cce-4c44-9b3d-32d4785a4870"
      },
      "execution_count": 15,
      "outputs": [
        {
          "output_type": "execute_result",
          "data": {
            "text/plain": [
              "                                                post  \\\n",
              "0  [i, dont, think, im, getting, my, baby, them, ...   \n",
              "1  [we, cannot, continue, calling, ourselves, fem...   \n",
              "2                [nawt, yall, niggers, ignoring, me]   \n",
              "3  [<user>, i, am, bit, confused, coz, chinese, p...   \n",
              "4  [this, bitch, in, whataburger, eating, a, burg...   \n",
              "\n",
              "                                          rationales       label  \n",
              "0                                                 []      normal  \n",
              "1                                                 []      normal  \n",
              "2                                                 []      normal  \n",
              "3  [[0, 0, 0, 0, 0, 0, 0, 0, 0, 0, 0, 0, 0, 0, 0,...  hatespeech  \n",
              "4  [[0, 1, 0, 0, 0, 0, 0, 0, 0, 0, 0, 0, 0, 0, 0,...  hatespeech  "
            ],
            "text/html": [
              "\n",
              "  <div id=\"df-e9bcbc13-a445-44e0-bfe5-07aebc58dc77\">\n",
              "    <div class=\"colab-df-container\">\n",
              "      <div>\n",
              "<style scoped>\n",
              "    .dataframe tbody tr th:only-of-type {\n",
              "        vertical-align: middle;\n",
              "    }\n",
              "\n",
              "    .dataframe tbody tr th {\n",
              "        vertical-align: top;\n",
              "    }\n",
              "\n",
              "    .dataframe thead th {\n",
              "        text-align: right;\n",
              "    }\n",
              "</style>\n",
              "<table border=\"1\" class=\"dataframe\">\n",
              "  <thead>\n",
              "    <tr style=\"text-align: right;\">\n",
              "      <th></th>\n",
              "      <th>post</th>\n",
              "      <th>rationales</th>\n",
              "      <th>label</th>\n",
              "    </tr>\n",
              "  </thead>\n",
              "  <tbody>\n",
              "    <tr>\n",
              "      <th>0</th>\n",
              "      <td>[i, dont, think, im, getting, my, baby, them, ...</td>\n",
              "      <td>[]</td>\n",
              "      <td>normal</td>\n",
              "    </tr>\n",
              "    <tr>\n",
              "      <th>1</th>\n",
              "      <td>[we, cannot, continue, calling, ourselves, fem...</td>\n",
              "      <td>[]</td>\n",
              "      <td>normal</td>\n",
              "    </tr>\n",
              "    <tr>\n",
              "      <th>2</th>\n",
              "      <td>[nawt, yall, niggers, ignoring, me]</td>\n",
              "      <td>[]</td>\n",
              "      <td>normal</td>\n",
              "    </tr>\n",
              "    <tr>\n",
              "      <th>3</th>\n",
              "      <td>[&lt;user&gt;, i, am, bit, confused, coz, chinese, p...</td>\n",
              "      <td>[[0, 0, 0, 0, 0, 0, 0, 0, 0, 0, 0, 0, 0, 0, 0,...</td>\n",
              "      <td>hatespeech</td>\n",
              "    </tr>\n",
              "    <tr>\n",
              "      <th>4</th>\n",
              "      <td>[this, bitch, in, whataburger, eating, a, burg...</td>\n",
              "      <td>[[0, 1, 0, 0, 0, 0, 0, 0, 0, 0, 0, 0, 0, 0, 0,...</td>\n",
              "      <td>hatespeech</td>\n",
              "    </tr>\n",
              "  </tbody>\n",
              "</table>\n",
              "</div>\n",
              "      <button class=\"colab-df-convert\" onclick=\"convertToInteractive('df-e9bcbc13-a445-44e0-bfe5-07aebc58dc77')\"\n",
              "              title=\"Convert this dataframe to an interactive table.\"\n",
              "              style=\"display:none;\">\n",
              "        \n",
              "  <svg xmlns=\"http://www.w3.org/2000/svg\" height=\"24px\"viewBox=\"0 0 24 24\"\n",
              "       width=\"24px\">\n",
              "    <path d=\"M0 0h24v24H0V0z\" fill=\"none\"/>\n",
              "    <path d=\"M18.56 5.44l.94 2.06.94-2.06 2.06-.94-2.06-.94-.94-2.06-.94 2.06-2.06.94zm-11 1L8.5 8.5l.94-2.06 2.06-.94-2.06-.94L8.5 2.5l-.94 2.06-2.06.94zm10 10l.94 2.06.94-2.06 2.06-.94-2.06-.94-.94-2.06-.94 2.06-2.06.94z\"/><path d=\"M17.41 7.96l-1.37-1.37c-.4-.4-.92-.59-1.43-.59-.52 0-1.04.2-1.43.59L10.3 9.45l-7.72 7.72c-.78.78-.78 2.05 0 2.83L4 21.41c.39.39.9.59 1.41.59.51 0 1.02-.2 1.41-.59l7.78-7.78 2.81-2.81c.8-.78.8-2.07 0-2.86zM5.41 20L4 18.59l7.72-7.72 1.47 1.35L5.41 20z\"/>\n",
              "  </svg>\n",
              "      </button>\n",
              "      \n",
              "  <style>\n",
              "    .colab-df-container {\n",
              "      display:flex;\n",
              "      flex-wrap:wrap;\n",
              "      gap: 12px;\n",
              "    }\n",
              "\n",
              "    .colab-df-convert {\n",
              "      background-color: #E8F0FE;\n",
              "      border: none;\n",
              "      border-radius: 50%;\n",
              "      cursor: pointer;\n",
              "      display: none;\n",
              "      fill: #1967D2;\n",
              "      height: 32px;\n",
              "      padding: 0 0 0 0;\n",
              "      width: 32px;\n",
              "    }\n",
              "\n",
              "    .colab-df-convert:hover {\n",
              "      background-color: #E2EBFA;\n",
              "      box-shadow: 0px 1px 2px rgba(60, 64, 67, 0.3), 0px 1px 3px 1px rgba(60, 64, 67, 0.15);\n",
              "      fill: #174EA6;\n",
              "    }\n",
              "\n",
              "    [theme=dark] .colab-df-convert {\n",
              "      background-color: #3B4455;\n",
              "      fill: #D2E3FC;\n",
              "    }\n",
              "\n",
              "    [theme=dark] .colab-df-convert:hover {\n",
              "      background-color: #434B5C;\n",
              "      box-shadow: 0px 1px 3px 1px rgba(0, 0, 0, 0.15);\n",
              "      filter: drop-shadow(0px 1px 2px rgba(0, 0, 0, 0.3));\n",
              "      fill: #FFFFFF;\n",
              "    }\n",
              "  </style>\n",
              "\n",
              "      <script>\n",
              "        const buttonEl =\n",
              "          document.querySelector('#df-e9bcbc13-a445-44e0-bfe5-07aebc58dc77 button.colab-df-convert');\n",
              "        buttonEl.style.display =\n",
              "          google.colab.kernel.accessAllowed ? 'block' : 'none';\n",
              "\n",
              "        async function convertToInteractive(key) {\n",
              "          const element = document.querySelector('#df-e9bcbc13-a445-44e0-bfe5-07aebc58dc77');\n",
              "          const dataTable =\n",
              "            await google.colab.kernel.invokeFunction('convertToInteractive',\n",
              "                                                     [key], {});\n",
              "          if (!dataTable) return;\n",
              "\n",
              "          const docLinkHtml = 'Like what you see? Visit the ' +\n",
              "            '<a target=\"_blank\" href=https://colab.research.google.com/notebooks/data_table.ipynb>data table notebook</a>'\n",
              "            + ' to learn more about interactive tables.';\n",
              "          element.innerHTML = '';\n",
              "          dataTable['output_type'] = 'display_data';\n",
              "          await google.colab.output.renderOutput(dataTable, element);\n",
              "          const docLink = document.createElement('div');\n",
              "          docLink.innerHTML = docLinkHtml;\n",
              "          element.appendChild(docLink);\n",
              "        }\n",
              "      </script>\n",
              "    </div>\n",
              "  </div>\n",
              "  "
            ]
          },
          "metadata": {},
          "execution_count": 15
        }
      ]
    },
    {
      "cell_type": "code",
      "source": [
        "one_hot = pd.get_dummies(data['label'])\n",
        "data = data.drop('label',axis = 1)\n",
        "data = data.join(one_hot)"
      ],
      "metadata": {
        "id": "1fWyxmxeHHvX"
      },
      "execution_count": 16,
      "outputs": []
    },
    {
      "cell_type": "code",
      "source": [
        "'''\n",
        "Text Data Preprocessing\n",
        "1. Remove Special Characters\n",
        "2. Remove Numbers\n",
        "3. Convert Contractions to Expanded Words\n",
        "'''\n",
        "\n",
        "import re\n",
        "\n",
        "def remove_special_chars(str):\n",
        "  patt = r'[^a-zA-z0-9\\s]'\n",
        "  text = re.sub(patt, ' ', str)\n",
        "  return str\n",
        "\n",
        "def remove_numbers(str):\n",
        "  if bool(re.search(r'\\d', str)):\n",
        "    str = re.sub('[0-9]*', '', str)\n",
        "  return str\n",
        "\n",
        "contraction_dict = {\"lets\": \"let us\", \n",
        "                    \"aint\" : \"are not\",\n",
        "                    \"yall\": \"you all\",\n",
        "                    \"im\": \"i am\",\n",
        "                    \"heres\": \"here is\",\n",
        "                    \"youre\": \"you are\",\n",
        "                    \"hes\": \"he is\",\n",
        "                    \"its\": \"it is\",\n",
        "                    \"shes\": \"she is\",\n",
        "                    \"theyre\": \"they are\",\n",
        "                    \"ill\": \"i will\",\n",
        "                    \"youll\": \"you will\",\n",
        "                    \"itll\": \"it will\", \n",
        "                    \"ive\": \"i have\",\n",
        "                    \"shouldve\": \"should have\",\n",
        "                    \"youve\": \"you have\",\n",
        "                    \"couldve\": \"could have\",\n",
        "                    \"theyve\": \"they have\",\n",
        "                    \"id\": \"i would\",\n",
        "                    \"weve\": \"we have\",\n",
        "                    \"theyd\": \"they would\",\n",
        "                    \"youd\": \"you would\",\n",
        "                    \"hed\": \"he would\",\n",
        "                    \"didnt\": \"did not\",\n",
        "                    \"dont\": \"do not\",\n",
        "                    \"doesnt\": \"does not\",\n",
        "                    \"cant\": \"cannot\",\n",
        "                    \"isnt\": \"is not\",\n",
        "                    \"arent\": \"are not\",\n",
        "                    \"shouldnt\": \"should not\",\n",
        "                    \"couldnt\": \"could not\",\n",
        "                    \"wouldnt\": \"would not\",\n",
        "                    \"hasnt\": \"has not\",\n",
        "                    \"wasnt\": \"was not\",\n",
        "                    \"wont\": \"will not\",\n",
        "                    \"werent\": \"were not\",\n",
        "                    \"theyre\": \"they are\",\n",
        "                    \"wheres\": \"where is\",\n",
        "                    \"coz\": \"because\",\n",
        "                    \"thiss\": \"this is\"\n",
        "                    }\n",
        "\n",
        "def _get_contractions(contraction_dict):\n",
        "    contraction_re = re.compile('(%s)' % '|'.join(contraction_dict.keys()))\n",
        "    return contraction_dict, contraction_re\n",
        "contractions, contractions_re = _get_contractions(contraction_dict)\n",
        "def replace_contractions(text):\n",
        "    def replace(match):\n",
        "        return contractions[match.group(0)]\n",
        "    return contractions_re.sub(replace, text)\n",
        " "
      ],
      "metadata": {
        "id": "bATKWtlCDA4Z"
      },
      "execution_count": 17,
      "outputs": []
    },
    {
      "cell_type": "code",
      "source": [
        "cleaned_posts = []\n",
        "for index, row in data.iterrows():\n",
        "  post = row['post']\n",
        "  cleaned_post = ''\n",
        "  for i in range(0, len(post)):\n",
        "    word = post[i]\n",
        "    word = remove_special_chars(word)\n",
        "    word = remove_numbers(word)\n",
        "    word = replace_contractions(word)\n",
        "    word = word.strip()\n",
        "    cleaned_post = cleaned_post + word + ' '\n",
        "  \n",
        "  cleaned_posts.append(cleaned_post)\n",
        "\n",
        "cleaned_posts = np.array(cleaned_posts)\n",
        "data['posts'] = cleaned_posts"
      ],
      "metadata": {
        "id": "POtUSLc-DLEs"
      },
      "execution_count": 18,
      "outputs": []
    },
    {
      "cell_type": "code",
      "source": [
        "data = data.drop(['post'], axis = 1)"
      ],
      "metadata": {
        "id": "EOm1Dzkk633r"
      },
      "execution_count": 20,
      "outputs": []
    },
    {
      "cell_type": "code",
      "source": [
        "data.head()"
      ],
      "metadata": {
        "colab": {
          "base_uri": "https://localhost:8080/",
          "height": 206
        },
        "id": "Ngegrg6M8mXt",
        "outputId": "6095abc5-720e-446c-81a8-5881768d998e"
      },
      "execution_count": 21,
      "outputs": [
        {
          "output_type": "execute_result",
          "data": {
            "text/plain": [
              "                                          rationales  hatespeech  normal  \\\n",
              "0                                                 []           0       1   \n",
              "1                                                 []           0       1   \n",
              "2                                                 []           0       1   \n",
              "3  [[0, 0, 0, 0, 0, 0, 0, 0, 0, 0, 0, 0, 0, 0, 0,...           1       0   \n",
              "4  [[0, 1, 0, 0, 0, 0, 0, 0, 0, 0, 0, 0, 0, 0, 0,...           1       0   \n",
              "\n",
              "   offensive                                              posts  \n",
              "0          0  i do not think i am getting my baby them white...  \n",
              "1          0  we cannot continue calling ourselves feminists...  \n",
              "2          0                  nawt you all niggers ignoring me   \n",
              "3          0  <user> i am bit confused because chinese ppl c...  \n",
              "4          0  this bitch in whataburger eating a burger with...  "
            ],
            "text/html": [
              "\n",
              "  <div id=\"df-2c7fde61-ce3e-45a4-8729-51fd20ea22eb\">\n",
              "    <div class=\"colab-df-container\">\n",
              "      <div>\n",
              "<style scoped>\n",
              "    .dataframe tbody tr th:only-of-type {\n",
              "        vertical-align: middle;\n",
              "    }\n",
              "\n",
              "    .dataframe tbody tr th {\n",
              "        vertical-align: top;\n",
              "    }\n",
              "\n",
              "    .dataframe thead th {\n",
              "        text-align: right;\n",
              "    }\n",
              "</style>\n",
              "<table border=\"1\" class=\"dataframe\">\n",
              "  <thead>\n",
              "    <tr style=\"text-align: right;\">\n",
              "      <th></th>\n",
              "      <th>rationales</th>\n",
              "      <th>hatespeech</th>\n",
              "      <th>normal</th>\n",
              "      <th>offensive</th>\n",
              "      <th>posts</th>\n",
              "    </tr>\n",
              "  </thead>\n",
              "  <tbody>\n",
              "    <tr>\n",
              "      <th>0</th>\n",
              "      <td>[]</td>\n",
              "      <td>0</td>\n",
              "      <td>1</td>\n",
              "      <td>0</td>\n",
              "      <td>i do not think i am getting my baby them white...</td>\n",
              "    </tr>\n",
              "    <tr>\n",
              "      <th>1</th>\n",
              "      <td>[]</td>\n",
              "      <td>0</td>\n",
              "      <td>1</td>\n",
              "      <td>0</td>\n",
              "      <td>we cannot continue calling ourselves feminists...</td>\n",
              "    </tr>\n",
              "    <tr>\n",
              "      <th>2</th>\n",
              "      <td>[]</td>\n",
              "      <td>0</td>\n",
              "      <td>1</td>\n",
              "      <td>0</td>\n",
              "      <td>nawt you all niggers ignoring me</td>\n",
              "    </tr>\n",
              "    <tr>\n",
              "      <th>3</th>\n",
              "      <td>[[0, 0, 0, 0, 0, 0, 0, 0, 0, 0, 0, 0, 0, 0, 0,...</td>\n",
              "      <td>1</td>\n",
              "      <td>0</td>\n",
              "      <td>0</td>\n",
              "      <td>&lt;user&gt; i am bit confused because chinese ppl c...</td>\n",
              "    </tr>\n",
              "    <tr>\n",
              "      <th>4</th>\n",
              "      <td>[[0, 1, 0, 0, 0, 0, 0, 0, 0, 0, 0, 0, 0, 0, 0,...</td>\n",
              "      <td>1</td>\n",
              "      <td>0</td>\n",
              "      <td>0</td>\n",
              "      <td>this bitch in whataburger eating a burger with...</td>\n",
              "    </tr>\n",
              "  </tbody>\n",
              "</table>\n",
              "</div>\n",
              "      <button class=\"colab-df-convert\" onclick=\"convertToInteractive('df-2c7fde61-ce3e-45a4-8729-51fd20ea22eb')\"\n",
              "              title=\"Convert this dataframe to an interactive table.\"\n",
              "              style=\"display:none;\">\n",
              "        \n",
              "  <svg xmlns=\"http://www.w3.org/2000/svg\" height=\"24px\"viewBox=\"0 0 24 24\"\n",
              "       width=\"24px\">\n",
              "    <path d=\"M0 0h24v24H0V0z\" fill=\"none\"/>\n",
              "    <path d=\"M18.56 5.44l.94 2.06.94-2.06 2.06-.94-2.06-.94-.94-2.06-.94 2.06-2.06.94zm-11 1L8.5 8.5l.94-2.06 2.06-.94-2.06-.94L8.5 2.5l-.94 2.06-2.06.94zm10 10l.94 2.06.94-2.06 2.06-.94-2.06-.94-.94-2.06-.94 2.06-2.06.94z\"/><path d=\"M17.41 7.96l-1.37-1.37c-.4-.4-.92-.59-1.43-.59-.52 0-1.04.2-1.43.59L10.3 9.45l-7.72 7.72c-.78.78-.78 2.05 0 2.83L4 21.41c.39.39.9.59 1.41.59.51 0 1.02-.2 1.41-.59l7.78-7.78 2.81-2.81c.8-.78.8-2.07 0-2.86zM5.41 20L4 18.59l7.72-7.72 1.47 1.35L5.41 20z\"/>\n",
              "  </svg>\n",
              "      </button>\n",
              "      \n",
              "  <style>\n",
              "    .colab-df-container {\n",
              "      display:flex;\n",
              "      flex-wrap:wrap;\n",
              "      gap: 12px;\n",
              "    }\n",
              "\n",
              "    .colab-df-convert {\n",
              "      background-color: #E8F0FE;\n",
              "      border: none;\n",
              "      border-radius: 50%;\n",
              "      cursor: pointer;\n",
              "      display: none;\n",
              "      fill: #1967D2;\n",
              "      height: 32px;\n",
              "      padding: 0 0 0 0;\n",
              "      width: 32px;\n",
              "    }\n",
              "\n",
              "    .colab-df-convert:hover {\n",
              "      background-color: #E2EBFA;\n",
              "      box-shadow: 0px 1px 2px rgba(60, 64, 67, 0.3), 0px 1px 3px 1px rgba(60, 64, 67, 0.15);\n",
              "      fill: #174EA6;\n",
              "    }\n",
              "\n",
              "    [theme=dark] .colab-df-convert {\n",
              "      background-color: #3B4455;\n",
              "      fill: #D2E3FC;\n",
              "    }\n",
              "\n",
              "    [theme=dark] .colab-df-convert:hover {\n",
              "      background-color: #434B5C;\n",
              "      box-shadow: 0px 1px 3px 1px rgba(0, 0, 0, 0.15);\n",
              "      filter: drop-shadow(0px 1px 2px rgba(0, 0, 0, 0.3));\n",
              "      fill: #FFFFFF;\n",
              "    }\n",
              "  </style>\n",
              "\n",
              "      <script>\n",
              "        const buttonEl =\n",
              "          document.querySelector('#df-2c7fde61-ce3e-45a4-8729-51fd20ea22eb button.colab-df-convert');\n",
              "        buttonEl.style.display =\n",
              "          google.colab.kernel.accessAllowed ? 'block' : 'none';\n",
              "\n",
              "        async function convertToInteractive(key) {\n",
              "          const element = document.querySelector('#df-2c7fde61-ce3e-45a4-8729-51fd20ea22eb');\n",
              "          const dataTable =\n",
              "            await google.colab.kernel.invokeFunction('convertToInteractive',\n",
              "                                                     [key], {});\n",
              "          if (!dataTable) return;\n",
              "\n",
              "          const docLinkHtml = 'Like what you see? Visit the ' +\n",
              "            '<a target=\"_blank\" href=https://colab.research.google.com/notebooks/data_table.ipynb>data table notebook</a>'\n",
              "            + ' to learn more about interactive tables.';\n",
              "          element.innerHTML = '';\n",
              "          dataTable['output_type'] = 'display_data';\n",
              "          await google.colab.output.renderOutput(dataTable, element);\n",
              "          const docLink = document.createElement('div');\n",
              "          docLink.innerHTML = docLinkHtml;\n",
              "          element.appendChild(docLink);\n",
              "        }\n",
              "      </script>\n",
              "    </div>\n",
              "  </div>\n",
              "  "
            ]
          },
          "metadata": {},
          "execution_count": 21
        }
      ]
    },
    {
      "cell_type": "code",
      "source": [
        "y_cols = list(data.columns[1:4])\n",
        "print(y_cols)\n",
        "is_multilabel = (data[y_cols].sum(axis=1) >1).count()"
      ],
      "metadata": {
        "colab": {
          "base_uri": "https://localhost:8080/"
        },
        "id": "f9e0vMwO7nWE",
        "outputId": "a32b43c7-4ca2-4d6f-a8b4-dcf41d2ca265"
      },
      "execution_count": 22,
      "outputs": [
        {
          "output_type": "stream",
          "name": "stdout",
          "text": [
            "['hatespeech', 'normal', 'offensive']\n"
          ]
        }
      ]
    },
    {
      "cell_type": "code",
      "source": [
        "def get_class_weight(data):\n",
        "    class_weight = {}\n",
        "    for num,col in enumerate(y_cols):\n",
        "        if num not in class_weight:\n",
        "            class_weight[col] = round((data[data[col] == 1][col].sum())/data.shape[0]*100,2)\n",
        "    return class_weight\n",
        "class_weight = get_class_weight(data)\n",
        "print('Total class weight: ', sum(class_weight.values()), '%\\n\\n', class_weight)"
      ],
      "metadata": {
        "colab": {
          "base_uri": "https://localhost:8080/"
        },
        "id": "QqhOmb1u8Znn",
        "outputId": "af0face8-ed37-4245-a8b1-994629fd5ea7"
      },
      "execution_count": 23,
      "outputs": [
        {
          "output_type": "stream",
          "name": "stdout",
          "text": [
            "Total class weight:  100.0 %\n",
            "\n",
            " {'hatespeech': 30.86, 'normal': 40.64, 'offensive': 28.5}\n"
          ]
        }
      ]
    },
    {
      "cell_type": "code",
      "source": [
        "data.head()"
      ],
      "metadata": {
        "colab": {
          "base_uri": "https://localhost:8080/",
          "height": 206
        },
        "id": "L6mu17-KKhOU",
        "outputId": "db3010a4-065b-493d-c70d-24227d360cfa"
      },
      "execution_count": 24,
      "outputs": [
        {
          "output_type": "execute_result",
          "data": {
            "text/plain": [
              "                                          rationales  hatespeech  normal  \\\n",
              "0                                                 []           0       1   \n",
              "1                                                 []           0       1   \n",
              "2                                                 []           0       1   \n",
              "3  [[0, 0, 0, 0, 0, 0, 0, 0, 0, 0, 0, 0, 0, 0, 0,...           1       0   \n",
              "4  [[0, 1, 0, 0, 0, 0, 0, 0, 0, 0, 0, 0, 0, 0, 0,...           1       0   \n",
              "\n",
              "   offensive                                              posts  \n",
              "0          0  i do not think i am getting my baby them white...  \n",
              "1          0  we cannot continue calling ourselves feminists...  \n",
              "2          0                  nawt you all niggers ignoring me   \n",
              "3          0  <user> i am bit confused because chinese ppl c...  \n",
              "4          0  this bitch in whataburger eating a burger with...  "
            ],
            "text/html": [
              "\n",
              "  <div id=\"df-54e7fe29-3cfc-4ede-b3c7-df7621db0d32\">\n",
              "    <div class=\"colab-df-container\">\n",
              "      <div>\n",
              "<style scoped>\n",
              "    .dataframe tbody tr th:only-of-type {\n",
              "        vertical-align: middle;\n",
              "    }\n",
              "\n",
              "    .dataframe tbody tr th {\n",
              "        vertical-align: top;\n",
              "    }\n",
              "\n",
              "    .dataframe thead th {\n",
              "        text-align: right;\n",
              "    }\n",
              "</style>\n",
              "<table border=\"1\" class=\"dataframe\">\n",
              "  <thead>\n",
              "    <tr style=\"text-align: right;\">\n",
              "      <th></th>\n",
              "      <th>rationales</th>\n",
              "      <th>hatespeech</th>\n",
              "      <th>normal</th>\n",
              "      <th>offensive</th>\n",
              "      <th>posts</th>\n",
              "    </tr>\n",
              "  </thead>\n",
              "  <tbody>\n",
              "    <tr>\n",
              "      <th>0</th>\n",
              "      <td>[]</td>\n",
              "      <td>0</td>\n",
              "      <td>1</td>\n",
              "      <td>0</td>\n",
              "      <td>i do not think i am getting my baby them white...</td>\n",
              "    </tr>\n",
              "    <tr>\n",
              "      <th>1</th>\n",
              "      <td>[]</td>\n",
              "      <td>0</td>\n",
              "      <td>1</td>\n",
              "      <td>0</td>\n",
              "      <td>we cannot continue calling ourselves feminists...</td>\n",
              "    </tr>\n",
              "    <tr>\n",
              "      <th>2</th>\n",
              "      <td>[]</td>\n",
              "      <td>0</td>\n",
              "      <td>1</td>\n",
              "      <td>0</td>\n",
              "      <td>nawt you all niggers ignoring me</td>\n",
              "    </tr>\n",
              "    <tr>\n",
              "      <th>3</th>\n",
              "      <td>[[0, 0, 0, 0, 0, 0, 0, 0, 0, 0, 0, 0, 0, 0, 0,...</td>\n",
              "      <td>1</td>\n",
              "      <td>0</td>\n",
              "      <td>0</td>\n",
              "      <td>&lt;user&gt; i am bit confused because chinese ppl c...</td>\n",
              "    </tr>\n",
              "    <tr>\n",
              "      <th>4</th>\n",
              "      <td>[[0, 1, 0, 0, 0, 0, 0, 0, 0, 0, 0, 0, 0, 0, 0,...</td>\n",
              "      <td>1</td>\n",
              "      <td>0</td>\n",
              "      <td>0</td>\n",
              "      <td>this bitch in whataburger eating a burger with...</td>\n",
              "    </tr>\n",
              "  </tbody>\n",
              "</table>\n",
              "</div>\n",
              "      <button class=\"colab-df-convert\" onclick=\"convertToInteractive('df-54e7fe29-3cfc-4ede-b3c7-df7621db0d32')\"\n",
              "              title=\"Convert this dataframe to an interactive table.\"\n",
              "              style=\"display:none;\">\n",
              "        \n",
              "  <svg xmlns=\"http://www.w3.org/2000/svg\" height=\"24px\"viewBox=\"0 0 24 24\"\n",
              "       width=\"24px\">\n",
              "    <path d=\"M0 0h24v24H0V0z\" fill=\"none\"/>\n",
              "    <path d=\"M18.56 5.44l.94 2.06.94-2.06 2.06-.94-2.06-.94-.94-2.06-.94 2.06-2.06.94zm-11 1L8.5 8.5l.94-2.06 2.06-.94-2.06-.94L8.5 2.5l-.94 2.06-2.06.94zm10 10l.94 2.06.94-2.06 2.06-.94-2.06-.94-.94-2.06-.94 2.06-2.06.94z\"/><path d=\"M17.41 7.96l-1.37-1.37c-.4-.4-.92-.59-1.43-.59-.52 0-1.04.2-1.43.59L10.3 9.45l-7.72 7.72c-.78.78-.78 2.05 0 2.83L4 21.41c.39.39.9.59 1.41.59.51 0 1.02-.2 1.41-.59l7.78-7.78 2.81-2.81c.8-.78.8-2.07 0-2.86zM5.41 20L4 18.59l7.72-7.72 1.47 1.35L5.41 20z\"/>\n",
              "  </svg>\n",
              "      </button>\n",
              "      \n",
              "  <style>\n",
              "    .colab-df-container {\n",
              "      display:flex;\n",
              "      flex-wrap:wrap;\n",
              "      gap: 12px;\n",
              "    }\n",
              "\n",
              "    .colab-df-convert {\n",
              "      background-color: #E8F0FE;\n",
              "      border: none;\n",
              "      border-radius: 50%;\n",
              "      cursor: pointer;\n",
              "      display: none;\n",
              "      fill: #1967D2;\n",
              "      height: 32px;\n",
              "      padding: 0 0 0 0;\n",
              "      width: 32px;\n",
              "    }\n",
              "\n",
              "    .colab-df-convert:hover {\n",
              "      background-color: #E2EBFA;\n",
              "      box-shadow: 0px 1px 2px rgba(60, 64, 67, 0.3), 0px 1px 3px 1px rgba(60, 64, 67, 0.15);\n",
              "      fill: #174EA6;\n",
              "    }\n",
              "\n",
              "    [theme=dark] .colab-df-convert {\n",
              "      background-color: #3B4455;\n",
              "      fill: #D2E3FC;\n",
              "    }\n",
              "\n",
              "    [theme=dark] .colab-df-convert:hover {\n",
              "      background-color: #434B5C;\n",
              "      box-shadow: 0px 1px 3px 1px rgba(0, 0, 0, 0.15);\n",
              "      filter: drop-shadow(0px 1px 2px rgba(0, 0, 0, 0.3));\n",
              "      fill: #FFFFFF;\n",
              "    }\n",
              "  </style>\n",
              "\n",
              "      <script>\n",
              "        const buttonEl =\n",
              "          document.querySelector('#df-54e7fe29-3cfc-4ede-b3c7-df7621db0d32 button.colab-df-convert');\n",
              "        buttonEl.style.display =\n",
              "          google.colab.kernel.accessAllowed ? 'block' : 'none';\n",
              "\n",
              "        async function convertToInteractive(key) {\n",
              "          const element = document.querySelector('#df-54e7fe29-3cfc-4ede-b3c7-df7621db0d32');\n",
              "          const dataTable =\n",
              "            await google.colab.kernel.invokeFunction('convertToInteractive',\n",
              "                                                     [key], {});\n",
              "          if (!dataTable) return;\n",
              "\n",
              "          const docLinkHtml = 'Like what you see? Visit the ' +\n",
              "            '<a target=\"_blank\" href=https://colab.research.google.com/notebooks/data_table.ipynb>data table notebook</a>'\n",
              "            + ' to learn more about interactive tables.';\n",
              "          element.innerHTML = '';\n",
              "          dataTable['output_type'] = 'display_data';\n",
              "          await google.colab.output.renderOutput(dataTable, element);\n",
              "          const docLink = document.createElement('div');\n",
              "          docLink.innerHTML = docLinkHtml;\n",
              "          element.appendChild(docLink);\n",
              "        }\n",
              "      </script>\n",
              "    </div>\n",
              "  </div>\n",
              "  "
            ]
          },
          "metadata": {},
          "execution_count": 24
        }
      ]
    },
    {
      "cell_type": "code",
      "source": [
        "from sklearn.model_selection import train_test_split\n",
        "def get_train_test_val(data):\n",
        "    X_data = data['posts'].values\n",
        "    y_data = data[list(data.columns[1:4])].values\n",
        "    X, X_test, y, y_test = train_test_split(X_data, y_data, test_size=0.1, train_size=0.9)\n",
        "    #X_test, X_val, y_test, y_val = train_test_split(X_test, y_test, test_size=0.5, train_size=0.5)\n",
        "\n",
        "    X_train = X\n",
        "    y_train = y\n",
        "\n",
        "    print(\n",
        "        'X_train shape', X_train.shape,\n",
        "        '\\ny_train shape', y_train.shape,\n",
        "        '\\nX_test shape', X_test.shape,\n",
        "        '\\ny_test shape', y_test.shape,\n",
        "    )\n",
        "    return X_train, X_test, y_train, y_test\n",
        "\n",
        "X_train, X_test, y_train, y_test = get_train_test_val(data)"
      ],
      "metadata": {
        "colab": {
          "base_uri": "https://localhost:8080/"
        },
        "id": "SB-kv8RkKuA7",
        "outputId": "5d421617-14f1-4c77-e90e-63a82eb1e6e5"
      },
      "execution_count": 25,
      "outputs": [
        {
          "output_type": "stream",
          "name": "stdout",
          "text": [
            "X_train shape (17306,) \n",
            "y_train shape (17306, 3) \n",
            "X_test shape (1923,) \n",
            "y_test shape (1923, 3)\n"
          ]
        }
      ]
    },
    {
      "cell_type": "code",
      "source": [
        "'''\n",
        "  Tokenizing and Pad_Sequence\n",
        "'''\n",
        "\n",
        "# from keras.preprocessing.text import Tokenizer\n",
        "# from keras_preprocessing.sequence import pad_sequences\n",
        "\n",
        "# texts = data['post'] \n",
        "# texts = list(texts)\n",
        "\n",
        "# tokenizer = Tokenizer(num_words = max_words)\n",
        "# tokenizer.fit_on_texts(texts) # Convert to integers by assigining an integer to each word\n",
        "\n",
        "# sequences = tokenizer.texts_to_sequences(texts) # Transform each text to a sequence of integers by keeping only the top num_wrds-1 most frequent words into account\n",
        "# word_index = tokenizer.word_index\n",
        "\n",
        "# # Number of samples in the validation dataset\n",
        "# validation_samples = int((len(data) // 10))\n",
        "\n",
        "# # Pad Sequences to convert to a 2D array\n",
        "# df = pad_sequences(sequences, maxlen = maxlen) "
      ],
      "metadata": {
        "colab": {
          "base_uri": "https://localhost:8080/",
          "height": 35
        },
        "id": "SX2DBJyoKb2D",
        "outputId": "6175d5c3-4de0-44ae-cc16-afbd258b0ce1"
      },
      "execution_count": 26,
      "outputs": [
        {
          "output_type": "execute_result",
          "data": {
            "text/plain": [
              "'\\n  Tokenizing and Pad_Sequence\\n'"
            ],
            "application/vnd.google.colaboratory.intrinsic+json": {
              "type": "string"
            }
          },
          "metadata": {},
          "execution_count": 26
        }
      ]
    },
    {
      "cell_type": "code",
      "source": [
        "validation_samples = 1922"
      ],
      "metadata": {
        "id": "Z3QZKHJKXAth"
      },
      "execution_count": 27,
      "outputs": []
    },
    {
      "cell_type": "code",
      "source": [
        "# functions for reading in embedding data and\n",
        "# tokenizing and processing sequences with padding and\n",
        "# function for plotting model accuracy and loss\n",
        "\n",
        "import os\n",
        "import numpy as np\n",
        "from keras.preprocessing.text import Tokenizer\n",
        "from keras_preprocessing.sequence import pad_sequences\n",
        "\n",
        "# vectorizer and sequence function\n",
        "# takes in raw text and labels\n",
        "# params for max sequence length and max words\n",
        "# default arg for Shuffle=True to randomise data\n",
        "# returns tokenizer object. x_train,y_train, x_val,y_val\n",
        "def tokenize_and_sequence(full_data_set, texts, labels, max_len, max_words, validation_samples, shuffle=True):\n",
        "    #initialise tokenizer with num_words param\n",
        "    tokenizer = Tokenizer(num_words=max_words)\n",
        "    tokenizer.fit_on_texts(full_data_set)\n",
        "    # convert texts to sequences\n",
        "    sequences = tokenizer.texts_to_sequences(texts)\n",
        "    # generate work index\n",
        "    word_index = tokenizer.word_index\n",
        "    # print top words count\n",
        "    print('{} of unique tokens found'.format(len(word_index)))\n",
        "    # pad sequences using max_len param\n",
        "    data = pad_sequences(sequences, maxlen=max_len)\n",
        "    # convert list of labels into numpy array\n",
        "    labels = np.asarray(labels)\n",
        "    # print shape of text and label tensors\n",
        "    print('data tensor shape: {}\\nlabel tensor shape:{}'.format(data.shape, labels.shape))\n",
        "\n",
        "    # shuffle data=True as labels are ordered\n",
        "    # randomise data to vary class distribution\n",
        "    if shuffle:\n",
        "        # get length of data sequence and create array\n",
        "        indices = np.arange(data.shape[0])\n",
        "        np.random.shuffle(indices)\n",
        "        # shuffle data and labels\n",
        "        data = data[indices]\n",
        "        labels = labels[indices]\n",
        "    else:\n",
        "        pass\n",
        "\n",
        "    # split training data into training and validation splits\n",
        "    # split using validation length\n",
        "    # validation split\n",
        "    x_val = data[:validation_samples]\n",
        "    y_val = labels[:validation_samples]\n",
        "\n",
        "    # training split\n",
        "    x_train = data[validation_samples:]\n",
        "    y_train = labels[validation_samples:]\n",
        "\n",
        "    # return tokenizer, word_index, training and validation data\n",
        "    return tokenizer, word_index, x_train, y_train, x_val, y_val\n",
        "\n",
        "\n",
        "tokenizer, word_index, X_train, y_train, X_val, y_val = tokenize_and_sequence(\n",
        "    data['posts'], X_train, y_train, max_len=maxlen, max_words=max_words, validation_samples=validation_samples, shuffle=False)\n",
        "\n",
        "# function to lpad pretrained glove embeddings\n",
        "# takes in embedding dim for variable embedding sizes\n",
        "# and base directory as well as txt file\n",
        "# embedding dim should match the file name dimension\n",
        "# and max words and word_index for embedding features\n",
        "'''\n",
        "Glove Embeddings to Vectorize Text\n",
        "'''\n",
        "\n",
        "from sklearn.utils import validation\n",
        "\n",
        "\n",
        "f = open(embeddings_file_path)\n",
        "embeddings_index = {}\n",
        "\n",
        "for line in f:\n",
        "  values = line.split(\" \")\n",
        "  word = values[0]\n",
        "  coeff = np.asarray(values[1:], dtype = 'float32')\n",
        "  embeddings_index[word] = coeff\n",
        "f.close()\n",
        "\n",
        "embedding_matrix = np.zeros((max_words,embedding_dim ))\n",
        "\n",
        "for word, i in word_index.items():\n",
        "  if i < max_words:\n",
        "    embedding_vector = embeddings_index.get(word)\n",
        "    if embedding_vector is not None:\n",
        "      embedding_matrix[i] = embedding_vector\n",
        "\n",
        "glove_embedding_300d = embedding_matrix\n",
        "\n",
        "\n",
        "# function to visualise keras model history metrics\n",
        "# function takes in acc, val_acc, loss, val_loss for model params\n",
        "# range is defined by epochs in range len(acc)\n",
        "\n",
        "import matplotlib.pyplot as plt\n",
        "\n",
        "def plot_training_and_validation(acc, val_acc, loss, val_loss):\n",
        "    epochs = range(1, len(acc) + 1)\n",
        "    plt.plot(epochs, acc, 'bo', label='Training acc')\n",
        "    plt.plot(epochs, val_acc, 'b', label='Validation acc')\n",
        "    plt.title('Training and validation accuracy')\n",
        "    plt.legend()\n",
        "    plt.figure()\n",
        "    plt.plot(epochs, loss, 'bo', label='Training loss')\n",
        "    plt.plot(epochs, val_loss, 'b', label='Validation loss')\n",
        "    plt.title('Training and validation loss')\n",
        "    plt.legend()\n",
        "    plt.show()\n",
        "\n",
        "# end"
      ],
      "metadata": {
        "colab": {
          "base_uri": "https://localhost:8080/"
        },
        "id": "9T5P1s0hJ1cD",
        "outputId": "c3444a05-be1f-4937-cd88-f0427a7faa2d"
      },
      "execution_count": 28,
      "outputs": [
        {
          "output_type": "stream",
          "name": "stdout",
          "text": [
            "27363 of unique tokens found\n",
            "data tensor shape: (17306, 120)\n",
            "label tensor shape:(17306, 3)\n"
          ]
        }
      ]
    },
    {
      "cell_type": "code",
      "source": [
        "    print(\n",
        "        'X_train shape', X_train.shape,\n",
        "        '\\ny_train shape', y_train.shape,\n",
        "        '\\nX_val shape', X_val.shape,\n",
        "        '\\ny_val shape', y_val.shape,\n",
        "        '\\nX_test shape', X_test.shape,\n",
        "        '\\ny_test shape', y_test.shape,\n",
        "    )"
      ],
      "metadata": {
        "colab": {
          "base_uri": "https://localhost:8080/"
        },
        "id": "umukFGjlmhej",
        "outputId": "9678ebbe-13d1-4d94-b3e9-0b4a4ea4e112"
      },
      "execution_count": 29,
      "outputs": [
        {
          "output_type": "stream",
          "name": "stdout",
          "text": [
            "X_train shape (15384, 120) \n",
            "y_train shape (15384, 3) \n",
            "X_val shape (1922, 120) \n",
            "y_val shape (1922, 3) \n",
            "X_test shape (1923,) \n",
            "y_test shape (1923, 3)\n"
          ]
        }
      ]
    },
    {
      "cell_type": "code",
      "source": [
        "# import layers\n",
        "from keras.layers import Input, Embedding, GRU, LSTM, MaxPooling1D, GlobalMaxPool1D\n",
        "from keras.layers import Dropout, Dense, Activation, Flatten,Conv1D, SpatialDropout1D\n",
        "from keras.models import Sequential\n",
        "from keras.optimizers import RMSprop "
      ],
      "metadata": {
        "id": "UBKxN4FhX8U2"
      },
      "execution_count": 30,
      "outputs": []
    },
    {
      "cell_type": "code",
      "source": [
        "# import AUC ROC metrics from sklearn\n",
        "from sklearn.metrics import roc_auc_score\n",
        "# import keras layers \n",
        "from keras.layers import Input, Embedding, GRU, LSTM, MaxPooling1D, GlobalMaxPool1D, CuDNNGRU, CuDNNLSTM\n",
        "from keras.layers import Dropout, Dense, Activation, Flatten,Conv1D, Bidirectional, SpatialDropout1D, BatchNormalization\n",
        "from keras.models import Sequential\n",
        "from keras.optimizers import RMSprop "
      ],
      "metadata": {
        "id": "67Xm_xplX-1q"
      },
      "execution_count": 31,
      "outputs": []
    },
    {
      "cell_type": "code",
      "source": [
        "# import AUC ROC metrics from sklearn\n",
        "import keras\n",
        "from sklearn.metrics import roc_auc_score\n",
        "\n",
        "# define class for ROC AUC callback with simple name modifications\n",
        "# credit to https://www.kaggle.com/yekenot\n",
        "class roc_auc_validation(keras.callbacks.Callback):\n",
        "    def __init__(self, validation_data=(), interval=1):\n",
        "        super(Callback, self).__init__()\n",
        "        self.interval = interval\n",
        "        self.x_val, self.y_val = validation_data\n",
        "\n",
        "    def on_epoch_end(self, epoch, logs={}):\n",
        "        if epoch % self.interval == 0:\n",
        "            y_pred = self.model.predict(self.x_val, verbose=0)\n",
        "            score = roc_auc_score(self.y_val, y_pred)\n",
        "            print(\"\\n ROC-AUC - epoch: {:d} - score: {:.6f}\".format(epoch+1, score))"
      ],
      "metadata": {
        "id": "oQNRsCeGzZWW"
      },
      "execution_count": 32,
      "outputs": []
    },
    {
      "cell_type": "code",
      "source": [
        "# define model architecture\n",
        "\n",
        "'''\n",
        "MODEL_1\n",
        "'''\n",
        "model_1 = Sequential()\n",
        "model_1.add(Embedding(max_words, embedding_dim, input_length=maxlen))\n",
        "model_1.add(Conv1D(64, 3, activation='relu'))\n",
        "model_1.add(MaxPooling1D(4))\n",
        "model_1.add(GRU(64, dropout=0.1, recurrent_dropout=0.5)) # defaults inclide tanh activation\n",
        "model_1.add(Dense(3, activation='sigmoid'))\n",
        "model_1.summary()"
      ],
      "metadata": {
        "colab": {
          "base_uri": "https://localhost:8080/"
        },
        "id": "r3LKT5SAYAzK",
        "outputId": "7e37ce55-5ecc-4fb6-9d97-10e55ab8b030"
      },
      "execution_count": 33,
      "outputs": [
        {
          "output_type": "stream",
          "name": "stdout",
          "text": [
            "Model: \"sequential\"\n",
            "_________________________________________________________________\n",
            " Layer (type)                Output Shape              Param #   \n",
            "=================================================================\n",
            " embedding (Embedding)       (None, 120, 300)          3000000   \n",
            "                                                                 \n",
            " conv1d (Conv1D)             (None, 118, 64)           57664     \n",
            "                                                                 \n",
            " max_pooling1d (MaxPooling1D  (None, 29, 64)           0         \n",
            " )                                                               \n",
            "                                                                 \n",
            " gru (GRU)                   (None, 64)                24960     \n",
            "                                                                 \n",
            " dense (Dense)               (None, 3)                 195       \n",
            "                                                                 \n",
            "=================================================================\n",
            "Total params: 3,082,819\n",
            "Trainable params: 3,082,819\n",
            "Non-trainable params: 0\n",
            "_________________________________________________________________\n"
          ]
        }
      ]
    },
    {
      "cell_type": "code",
      "source": [
        "'''\n",
        "MODEL_2\n",
        "'''\n",
        "\n",
        "# highest performing architecture\n",
        "# baseline++ with shorter convolution kernel of 3\n",
        "# define model architecture\n",
        "model_2 = Sequential()\n",
        "model_2.add(Embedding(max_words, embedding_dim, input_length=maxlen))\n",
        "model_2.add(SpatialDropout1D(0.2)) # add spatial dropout\n",
        "model_2.add(Conv1D(64, 3, activation='relu')) # kernel size to 3\n",
        "model_2.add(MaxPooling1D(4))\n",
        "model_2.add(BatchNormalization()) # add batch normalization\n",
        "model_2.add(Dropout(0.1))\n",
        "# modify to CuDNNGRU\n",
        "model_2.add(GRU(64, dropout=0.1, recurrent_dropout=0.5)) # defaults inclide tanh activation\n",
        "# model_2.add(CuDNNGRU(64)) # does not have a dropout or recurrent dropout param\n",
        "model_2.add(BatchNormalization())\n",
        "model_2.add(Dropout(0.1))\n",
        "model_2.add(Dense(3, activation='sigmoid'))\n",
        "model_2.summary()"
      ],
      "metadata": {
        "colab": {
          "base_uri": "https://localhost:8080/"
        },
        "id": "HE7uTGDGhrLU",
        "outputId": "b8ccc52e-8afa-4daa-dfec-9b451d893444"
      },
      "execution_count": 34,
      "outputs": [
        {
          "output_type": "stream",
          "name": "stdout",
          "text": [
            "Model: \"sequential_1\"\n",
            "_________________________________________________________________\n",
            " Layer (type)                Output Shape              Param #   \n",
            "=================================================================\n",
            " embedding_1 (Embedding)     (None, 120, 300)          3000000   \n",
            "                                                                 \n",
            " spatial_dropout1d (SpatialD  (None, 120, 300)         0         \n",
            " ropout1D)                                                       \n",
            "                                                                 \n",
            " conv1d_1 (Conv1D)           (None, 118, 64)           57664     \n",
            "                                                                 \n",
            " max_pooling1d_1 (MaxPooling  (None, 29, 64)           0         \n",
            " 1D)                                                             \n",
            "                                                                 \n",
            " batch_normalization (BatchN  (None, 29, 64)           256       \n",
            " ormalization)                                                   \n",
            "                                                                 \n",
            " dropout (Dropout)           (None, 29, 64)            0         \n",
            "                                                                 \n",
            " gru_1 (GRU)                 (None, 64)                24960     \n",
            "                                                                 \n",
            " batch_normalization_1 (Batc  (None, 64)               256       \n",
            " hNormalization)                                                 \n",
            "                                                                 \n",
            " dropout_1 (Dropout)         (None, 64)                0         \n",
            "                                                                 \n",
            " dense_1 (Dense)             (None, 3)                 195       \n",
            "                                                                 \n",
            "=================================================================\n",
            "Total params: 3,083,331\n",
            "Trainable params: 3,083,075\n",
            "Non-trainable params: 256\n",
            "_________________________________________________________________\n"
          ]
        }
      ]
    },
    {
      "cell_type": "code",
      "source": [
        "from keras.callbacks import Callback, EarlyStopping, ReduceLROnPlateau\n",
        "\n",
        "roc_callback = roc_auc_validation(validation_data=(X_val, y_val), interval=1)\n",
        "callback_list = [keras.callbacks.EarlyStopping(monitor='accuracy', patience=1), \n",
        "                 keras.callbacks.ModelCheckpoint(filepath='baseline_plus_complex.h5', monitor='val_loss', save_best_only=True)]\n",
        "callback_list.append(roc_callback)\n",
        "\n"
      ],
      "metadata": {
        "id": "b8GRfxybyOft"
      },
      "execution_count": 35,
      "outputs": []
    },
    {
      "cell_type": "code",
      "source": [
        "'''\n",
        "###################\n",
        "###################\n",
        "###################\n",
        "###################\n",
        "\n",
        "MODEL INITIALIZATION\n",
        "\n",
        "###################\n",
        "###################\n",
        "###################\n",
        "###################\n",
        "'''\n",
        "\n",
        "model = model_2"
      ],
      "metadata": {
        "id": "lPrfZAU2iEJn"
      },
      "execution_count": 36,
      "outputs": []
    },
    {
      "cell_type": "code",
      "source": [
        "# load pre-trained Glove embeddings in the first layer\n",
        "model.layers[0].set_weights([glove_embedding_300d])\n",
        "# freeze embedding layer weights\n",
        "model.layers[0].trainable = False\n",
        "# compile model with adam optimizer\n",
        "model.compile(optimizer='adam', loss='binary_crossentropy', metrics=['accuracy'])"
      ],
      "metadata": {
        "id": "bb2I1WxFYFBN"
      },
      "execution_count": 37,
      "outputs": []
    },
    {
      "cell_type": "code",
      "source": [
        "# fit model and train on training data and validate on validation samples\n",
        "# train for 5 epochs to establish baseline overfitting model\n",
        "# saves results to histroy object\n",
        "history = model.fit(X_train, y_train, epochs=30, batch_size=32, callbacks=callback_list, validation_data=(X_val, y_val))"
      ],
      "metadata": {
        "colab": {
          "base_uri": "https://localhost:8080/"
        },
        "id": "fqGvahLUYGvq",
        "outputId": "7b3fe55c-df02-4e73-aab6-c1a07dcc0588"
      },
      "execution_count": 38,
      "outputs": [
        {
          "output_type": "stream",
          "name": "stdout",
          "text": [
            "Epoch 1/30\n",
            "481/481 [==============================] - ETA: 0s - loss: 0.6124 - accuracy: 0.5150\n",
            " ROC-AUC - epoch: 1 - score: 0.750858\n",
            "481/481 [==============================] - 42s 81ms/step - loss: 0.6124 - accuracy: 0.5150 - val_loss: 0.5288 - val_accuracy: 0.5869\n",
            "Epoch 2/30\n",
            "481/481 [==============================] - ETA: 0s - loss: 0.5256 - accuracy: 0.5978\n",
            " ROC-AUC - epoch: 2 - score: 0.772101\n",
            "481/481 [==============================] - 38s 79ms/step - loss: 0.5256 - accuracy: 0.5978 - val_loss: 0.5134 - val_accuracy: 0.6077\n",
            "Epoch 3/30\n",
            "481/481 [==============================] - ETA: 0s - loss: 0.5050 - accuracy: 0.6172\n",
            " ROC-AUC - epoch: 3 - score: 0.775805\n",
            "481/481 [==============================] - 38s 79ms/step - loss: 0.5050 - accuracy: 0.6172 - val_loss: 0.5107 - val_accuracy: 0.6129\n",
            "Epoch 4/30\n",
            "481/481 [==============================] - ETA: 0s - loss: 0.4895 - accuracy: 0.6368\n",
            " ROC-AUC - epoch: 4 - score: 0.780973\n",
            "481/481 [==============================] - 38s 79ms/step - loss: 0.4895 - accuracy: 0.6368 - val_loss: 0.5079 - val_accuracy: 0.6223\n",
            "Epoch 5/30\n",
            "481/481 [==============================] - ETA: 0s - loss: 0.4759 - accuracy: 0.6502\n",
            " ROC-AUC - epoch: 5 - score: 0.782775\n",
            "481/481 [==============================] - 38s 78ms/step - loss: 0.4759 - accuracy: 0.6502 - val_loss: 0.5078 - val_accuracy: 0.6212\n",
            "Epoch 6/30\n",
            "481/481 [==============================] - ETA: 0s - loss: 0.4666 - accuracy: 0.6569\n",
            " ROC-AUC - epoch: 6 - score: 0.780739\n",
            "481/481 [==============================] - 42s 87ms/step - loss: 0.4666 - accuracy: 0.6569 - val_loss: 0.5158 - val_accuracy: 0.6067\n",
            "Epoch 7/30\n",
            "481/481 [==============================] - ETA: 0s - loss: 0.4564 - accuracy: 0.6647\n",
            " ROC-AUC - epoch: 7 - score: 0.780083\n",
            "481/481 [==============================] - 38s 78ms/step - loss: 0.4564 - accuracy: 0.6647 - val_loss: 0.5200 - val_accuracy: 0.6072\n",
            "Epoch 8/30\n",
            "481/481 [==============================] - ETA: 0s - loss: 0.4499 - accuracy: 0.6723\n",
            " ROC-AUC - epoch: 8 - score: 0.775868\n",
            "481/481 [==============================] - 38s 78ms/step - loss: 0.4499 - accuracy: 0.6723 - val_loss: 0.5182 - val_accuracy: 0.6051\n",
            "Epoch 9/30\n",
            "481/481 [==============================] - ETA: 0s - loss: 0.4377 - accuracy: 0.6886\n",
            " ROC-AUC - epoch: 9 - score: 0.784291\n",
            "481/481 [==============================] - 38s 79ms/step - loss: 0.4377 - accuracy: 0.6886 - val_loss: 0.5282 - val_accuracy: 0.6150\n",
            "Epoch 10/30\n",
            "481/481 [==============================] - ETA: 0s - loss: 0.4284 - accuracy: 0.6981\n",
            " ROC-AUC - epoch: 10 - score: 0.785828\n",
            "481/481 [==============================] - 38s 79ms/step - loss: 0.4284 - accuracy: 0.6981 - val_loss: 0.5262 - val_accuracy: 0.6041\n",
            "Epoch 11/30\n",
            "481/481 [==============================] - ETA: 0s - loss: 0.4202 - accuracy: 0.7040\n",
            " ROC-AUC - epoch: 11 - score: 0.777448\n",
            "481/481 [==============================] - 38s 79ms/step - loss: 0.4202 - accuracy: 0.7040 - val_loss: 0.5441 - val_accuracy: 0.6015\n",
            "Epoch 12/30\n",
            "481/481 [==============================] - ETA: 0s - loss: 0.4129 - accuracy: 0.7118\n",
            " ROC-AUC - epoch: 12 - score: 0.780240\n",
            "481/481 [==============================] - 51s 106ms/step - loss: 0.4129 - accuracy: 0.7118 - val_loss: 0.5372 - val_accuracy: 0.5947\n",
            "Epoch 13/30\n",
            "481/481 [==============================] - ETA: 0s - loss: 0.4039 - accuracy: 0.7182\n",
            " ROC-AUC - epoch: 13 - score: 0.774607\n",
            "481/481 [==============================] - 38s 79ms/step - loss: 0.4039 - accuracy: 0.7182 - val_loss: 0.5468 - val_accuracy: 0.5843\n",
            "Epoch 14/30\n",
            "481/481 [==============================] - ETA: 0s - loss: 0.3991 - accuracy: 0.7200\n",
            " ROC-AUC - epoch: 14 - score: 0.777406\n",
            "481/481 [==============================] - 38s 79ms/step - loss: 0.3991 - accuracy: 0.7200 - val_loss: 0.5488 - val_accuracy: 0.6025\n",
            "Epoch 15/30\n",
            "481/481 [==============================] - ETA: 0s - loss: 0.3893 - accuracy: 0.7321\n",
            " ROC-AUC - epoch: 15 - score: 0.772603\n",
            "481/481 [==============================] - 38s 79ms/step - loss: 0.3893 - accuracy: 0.7321 - val_loss: 0.5593 - val_accuracy: 0.5874\n",
            "Epoch 16/30\n",
            "481/481 [==============================] - ETA: 0s - loss: 0.3820 - accuracy: 0.7365\n",
            " ROC-AUC - epoch: 16 - score: 0.771095\n",
            "481/481 [==============================] - 38s 80ms/step - loss: 0.3820 - accuracy: 0.7365 - val_loss: 0.5745 - val_accuracy: 0.5765\n",
            "Epoch 17/30\n",
            "481/481 [==============================] - ETA: 0s - loss: 0.3778 - accuracy: 0.7394\n",
            " ROC-AUC - epoch: 17 - score: 0.776167\n",
            "481/481 [==============================] - 38s 79ms/step - loss: 0.3778 - accuracy: 0.7394 - val_loss: 0.5625 - val_accuracy: 0.5843\n",
            "Epoch 18/30\n",
            "481/481 [==============================] - ETA: 0s - loss: 0.3761 - accuracy: 0.7449\n",
            " ROC-AUC - epoch: 18 - score: 0.775115\n",
            "481/481 [==============================] - 43s 90ms/step - loss: 0.3761 - accuracy: 0.7449 - val_loss: 0.5706 - val_accuracy: 0.5911\n",
            "Epoch 19/30\n",
            "481/481 [==============================] - ETA: 0s - loss: 0.3684 - accuracy: 0.7505\n",
            " ROC-AUC - epoch: 19 - score: 0.771079\n",
            "481/481 [==============================] - 38s 79ms/step - loss: 0.3684 - accuracy: 0.7505 - val_loss: 0.5800 - val_accuracy: 0.5911\n",
            "Epoch 20/30\n",
            "481/481 [==============================] - ETA: 0s - loss: 0.3623 - accuracy: 0.7563\n",
            " ROC-AUC - epoch: 20 - score: 0.770745\n",
            "481/481 [==============================] - 38s 80ms/step - loss: 0.3623 - accuracy: 0.7563 - val_loss: 0.5835 - val_accuracy: 0.6004\n",
            "Epoch 21/30\n",
            "481/481 [==============================] - ETA: 0s - loss: 0.3545 - accuracy: 0.7631\n",
            " ROC-AUC - epoch: 21 - score: 0.770529\n",
            "481/481 [==============================] - 41s 84ms/step - loss: 0.3545 - accuracy: 0.7631 - val_loss: 0.5899 - val_accuracy: 0.5916\n",
            "Epoch 22/30\n",
            "481/481 [==============================] - ETA: 0s - loss: 0.3510 - accuracy: 0.7661\n",
            " ROC-AUC - epoch: 22 - score: 0.768810\n",
            "481/481 [==============================] - 38s 80ms/step - loss: 0.3510 - accuracy: 0.7661 - val_loss: 0.5952 - val_accuracy: 0.5879\n",
            "Epoch 23/30\n",
            "481/481 [==============================] - ETA: 0s - loss: 0.3473 - accuracy: 0.7673\n",
            " ROC-AUC - epoch: 23 - score: 0.769843\n",
            "481/481 [==============================] - 39s 81ms/step - loss: 0.3473 - accuracy: 0.7673 - val_loss: 0.5937 - val_accuracy: 0.5973\n",
            "Epoch 24/30\n",
            "481/481 [==============================] - ETA: 0s - loss: 0.3461 - accuracy: 0.7705\n",
            " ROC-AUC - epoch: 24 - score: 0.768186\n",
            "481/481 [==============================] - 42s 88ms/step - loss: 0.3461 - accuracy: 0.7705 - val_loss: 0.6031 - val_accuracy: 0.5931\n",
            "Epoch 25/30\n",
            "481/481 [==============================] - ETA: 0s - loss: 0.3388 - accuracy: 0.7737\n",
            " ROC-AUC - epoch: 25 - score: 0.764484\n",
            "481/481 [==============================] - 38s 78ms/step - loss: 0.3388 - accuracy: 0.7737 - val_loss: 0.6160 - val_accuracy: 0.5812\n",
            "Epoch 26/30\n",
            "481/481 [==============================] - ETA: 0s - loss: 0.3381 - accuracy: 0.7752\n",
            " ROC-AUC - epoch: 26 - score: 0.765033\n",
            "481/481 [==============================] - 38s 79ms/step - loss: 0.3381 - accuracy: 0.7752 - val_loss: 0.6183 - val_accuracy: 0.5926\n",
            "Epoch 27/30\n",
            "481/481 [==============================] - ETA: 0s - loss: 0.3340 - accuracy: 0.7798\n",
            " ROC-AUC - epoch: 27 - score: 0.764364\n",
            "481/481 [==============================] - 43s 89ms/step - loss: 0.3340 - accuracy: 0.7798 - val_loss: 0.6336 - val_accuracy: 0.5937\n",
            "Epoch 28/30\n",
            "481/481 [==============================] - ETA: 0s - loss: 0.3296 - accuracy: 0.7815\n",
            " ROC-AUC - epoch: 28 - score: 0.767931\n",
            "481/481 [==============================] - 38s 79ms/step - loss: 0.3296 - accuracy: 0.7815 - val_loss: 0.6204 - val_accuracy: 0.5853\n",
            "Epoch 29/30\n",
            "481/481 [==============================] - ETA: 0s - loss: 0.3303 - accuracy: 0.7833\n",
            " ROC-AUC - epoch: 29 - score: 0.766276\n",
            "481/481 [==============================] - 38s 79ms/step - loss: 0.3303 - accuracy: 0.7833 - val_loss: 0.6239 - val_accuracy: 0.5874\n",
            "Epoch 30/30\n",
            "481/481 [==============================] - ETA: 0s - loss: 0.3287 - accuracy: 0.7803\n",
            " ROC-AUC - epoch: 30 - score: 0.762572\n",
            "481/481 [==============================] - 43s 89ms/step - loss: 0.3287 - accuracy: 0.7803 - val_loss: 0.6370 - val_accuracy: 0.5874\n"
          ]
        }
      ]
    },
    {
      "cell_type": "markdown",
      "source": [
        "### Model Results"
      ],
      "metadata": {
        "id": "arTVtOO4YJvk"
      }
    },
    {
      "cell_type": "code",
      "source": [
        "# define plotting metrics\n",
        "acc = history.history['accuracy']\n",
        "val_acc = history.history['val_accuracy']\n",
        "loss = history.history['loss']\n",
        "val_loss = history.history['val_loss']\n",
        "# plot model training and validation accuracy and loss\n",
        "plot_training_and_validation(acc, val_acc, loss, val_loss)"
      ],
      "metadata": {
        "colab": {
          "base_uri": "https://localhost:8080/",
          "height": 545
        },
        "id": "5Aj8rDQlYLbe",
        "outputId": "e2105b43-6609-4682-a027-0e8cfea227b4"
      },
      "execution_count": 39,
      "outputs": [
        {
          "output_type": "display_data",
          "data": {
            "text/plain": [
              "<Figure size 432x288 with 1 Axes>"
            ],
            "image/png": "[encoded data removed]"
          },
          "metadata": {
            "needs_background": "light"
          }
        },
        {
          "output_type": "display_data",
          "data": {
            "text/plain": [
              "<Figure size 432x288 with 1 Axes>"
            ],
            "image/png": "[encoded data removed]"
          },
          "metadata": {
            "needs_background": "light"
          }
        }
      ]
    },
    {
      "cell_type": "code",
      "source": [
        "X_test = tokenizer.texts_to_sequences(X_test)\n",
        "X_test = pad_sequences(X_test, maxlen=maxlen)"
      ],
      "metadata": {
        "id": "ssyMZKFcb21p"
      },
      "execution_count": 40,
      "outputs": []
    },
    {
      "cell_type": "code",
      "source": [
        "y_hat = model.predict(X_test, batch_size=256)"
      ],
      "metadata": {
        "colab": {
          "base_uri": "https://localhost:8080/"
        },
        "id": "Ri95joxZcHR4",
        "outputId": "5dc78798-070d-496b-ff94-224ab7e53e8e"
      },
      "execution_count": 41,
      "outputs": [
        {
          "output_type": "stream",
          "name": "stdout",
          "text": [
            "8/8 [==============================] - 1s 100ms/step\n"
          ]
        }
      ]
    },
    {
      "cell_type": "code",
      "source": [
        "y_hat.shape"
      ],
      "metadata": {
        "colab": {
          "base_uri": "https://localhost:8080/"
        },
        "id": "G33LQWQldH8O",
        "outputId": "329950ce-b57e-490f-c557-27bc02c8ab92"
      },
      "execution_count": 42,
      "outputs": [
        {
          "output_type": "execute_result",
          "data": {
            "text/plain": [
              "(1923, 3)"
            ]
          },
          "metadata": {},
          "execution_count": 42
        }
      ]
    },
    {
      "cell_type": "code",
      "source": [
        "y_prediction = []\n",
        "for i in range(0, y_hat.shape[0]):\n",
        "  a = y_hat[i][0]\n",
        "  b = y_hat[i][1]\n",
        "  c = y_hat[i][2]\n",
        "\n",
        "  if(a >= b and a >= c):\n",
        "    y_prediction.append([1, 0, 0])\n",
        "  elif(b >= a and b >= c):\n",
        "    y_prediction.append([0, 1, 0])\n",
        "  elif(c >= a and c >= b):\n",
        "    y_prediction.append([0, 0, 1])\n",
        "\n",
        "y_prediction = np.array(y_prediction)"
      ],
      "metadata": {
        "id": "A5F77Ggprl9x"
      },
      "execution_count": 43,
      "outputs": []
    },
    {
      "cell_type": "code",
      "source": [
        "y_prediction.shape"
      ],
      "metadata": {
        "colab": {
          "base_uri": "https://localhost:8080/"
        },
        "id": "Fooxy5_AsUgj",
        "outputId": "d5558856-357a-4a52-ab7b-b3d7e0ccbd6a"
      },
      "execution_count": 44,
      "outputs": [
        {
          "output_type": "execute_result",
          "data": {
            "text/plain": [
              "(1923, 3)"
            ]
          },
          "metadata": {},
          "execution_count": 44
        }
      ]
    },
    {
      "cell_type": "code",
      "source": [
        "'''\n",
        "  Confusion Matrix for CNN-GRU Model\n",
        "'''\n",
        "\n",
        "import matplotlib.pyplot as plt\n",
        "from sklearn.metrics import confusion_matrix\n",
        "confusion_mat = confusion_matrix(\n",
        "    y_test.argmax(axis=1), y_prediction.argmax(axis=1))\n",
        "\n",
        "import seaborn as sns\n",
        "plt.subplots(figsize=(10,5))\n",
        "sns.heatmap(confusion_mat, annot=True)\n",
        "plt.xlabel('Predicted_CNN_GRU')\n",
        "plt.ylabel('Actual_labels')"
      ],
      "metadata": {
        "colab": {
          "base_uri": "https://localhost:8080/",
          "height": 353
        },
        "id": "M6xSRBSG3uvv",
        "outputId": "55bd20c8-174b-4bd3-d11d-6a746de9deb3"
      },
      "execution_count": 45,
      "outputs": [
        {
          "output_type": "execute_result",
          "data": {
            "text/plain": [
              "Text(69.0, 0.5, 'Actual_labels')"
            ]
          },
          "metadata": {},
          "execution_count": 45
        },
        {
          "output_type": "display_data",
          "data": {
            "text/plain": [
              "<Figure size 720x360 with 2 Axes>"
            ],
            "image/png": "[encoded data removed]"
          },
          "metadata": {
            "needs_background": "light"
          }
        }
      ]
    },
    {
      "cell_type": "code",
      "source": [
        "data.loc[data['offensive'] == 1]"
      ],
      "metadata": {
        "colab": {
          "base_uri": "https://localhost:8080/",
          "height": 424
        },
        "id": "O9CWUUCS86fY",
        "outputId": "4c9df75b-0119-48e4-cfd6-e64a0af7eeac"
      },
      "execution_count": 46,
      "outputs": [
        {
          "output_type": "execute_result",
          "data": {
            "text/plain": [
              "                                              rationales  hatespeech  normal  \\\n",
              "7      [[1, 1, 1, 1, 0, 0], [1, 1, 0, 1, 0, 0], [1, 1...           0       0   \n",
              "14     [[0, 0, 0, 0, 0, 0, 0, 0, 0, 1, 1, 0, 0, 0, 0,...           0       0   \n",
              "19     [[0, 0, 0, 0, 0, 1, 0, 0, 0, 0, 0, 0], [0, 0, ...           0       0   \n",
              "27     [[0, 0, 0, 0, 0, 0, 0, 0, 0, 0, 0, 0, 0, 0, 0,...           0       0   \n",
              "29     [[0, 0, 0, 0, 0, 0, 0, 0, 0, 0, 0, 0, 0, 0, 0,...           0       0   \n",
              "...                                                  ...         ...     ...   \n",
              "19222                       [[0, 1, 1, 1], [0, 1, 1, 1]]           0       0   \n",
              "19223  [[0, 1, 1, 1, 1, 1, 0, 0, 1, 0, 0, 0, 0, 0, 0,...           0       0   \n",
              "19224  [[0, 0, 0, 0, 0, 0, 0, 0, 0, 0, 1, 1, 1, 1, 0,...           0       0   \n",
              "19225  [[0, 0, 0, 0, 0, 0, 0, 0, 1, 1, 1, 1, 1, 0, 0,...           0       0   \n",
              "19228  [[0, 0, 0, 0, 0, 0, 0, 0, 1, 1, 1, 1, 1, 0, 0,...           0       0   \n",
              "\n",
              "       offensive                                              posts  \n",
              "7              1                 nogs jews and dykes how enriching   \n",
              "14             1  all of my exes were cute but they were hoes i ...  \n",
              "19             1  <user> condoning drug use not kike at all than...  \n",
              "27             1  that was just a photo look up rhyan moody she ...  \n",
              "29             1  i saw a couple baums and steins in the victi a...  \n",
              "...          ...                                                ...  \n",
              "19222          1                                a negro honey trap   \n",
              "19223          1  this vile racist ghetto ass dumber than a reta...  \n",
              "19224          1  if ur sti will on twitter tell carlton i sai w...  \n",
              "19225          1  when i first got on here and sai would i hate ...  \n",
              "19228          1  the jewish globalist elite have only i amporte...  \n",
              "\n",
              "[5480 rows x 5 columns]"
            ],
            "text/html": [
              "\n",
              "  <div id=\"df-cb7285b7-e890-4dcf-9da4-801fb9ad286a\">\n",
              "    <div class=\"colab-df-container\">\n",
              "      <div>\n",
              "<style scoped>\n",
              "    .dataframe tbody tr th:only-of-type {\n",
              "        vertical-align: middle;\n",
              "    }\n",
              "\n",
              "    .dataframe tbody tr th {\n",
              "        vertical-align: top;\n",
              "    }\n",
              "\n",
              "    .dataframe thead th {\n",
              "        text-align: right;\n",
              "    }\n",
              "</style>\n",
              "<table border=\"1\" class=\"dataframe\">\n",
              "  <thead>\n",
              "    <tr style=\"text-align: right;\">\n",
              "      <th></th>\n",
              "      <th>rationales</th>\n",
              "      <th>hatespeech</th>\n",
              "      <th>normal</th>\n",
              "      <th>offensive</th>\n",
              "      <th>posts</th>\n",
              "    </tr>\n",
              "  </thead>\n",
              "  <tbody>\n",
              "    <tr>\n",
              "      <th>7</th>\n",
              "      <td>[[1, 1, 1, 1, 0, 0], [1, 1, 0, 1, 0, 0], [1, 1...</td>\n",
              "      <td>0</td>\n",
              "      <td>0</td>\n",
              "      <td>1</td>\n",
              "      <td>nogs jews and dykes how enriching</td>\n",
              "    </tr>\n",
              "    <tr>\n",
              "      <th>14</th>\n",
              "      <td>[[0, 0, 0, 0, 0, 0, 0, 0, 0, 1, 1, 0, 0, 0, 0,...</td>\n",
              "      <td>0</td>\n",
              "      <td>0</td>\n",
              "      <td>1</td>\n",
              "      <td>all of my exes were cute but they were hoes i ...</td>\n",
              "    </tr>\n",
              "    <tr>\n",
              "      <th>19</th>\n",
              "      <td>[[0, 0, 0, 0, 0, 1, 0, 0, 0, 0, 0, 0], [0, 0, ...</td>\n",
              "      <td>0</td>\n",
              "      <td>0</td>\n",
              "      <td>1</td>\n",
              "      <td>&lt;user&gt; condoning drug use not kike at all than...</td>\n",
              "    </tr>\n",
              "    <tr>\n",
              "      <th>27</th>\n",
              "      <td>[[0, 0, 0, 0, 0, 0, 0, 0, 0, 0, 0, 0, 0, 0, 0,...</td>\n",
              "      <td>0</td>\n",
              "      <td>0</td>\n",
              "      <td>1</td>\n",
              "      <td>that was just a photo look up rhyan moody she ...</td>\n",
              "    </tr>\n",
              "    <tr>\n",
              "      <th>29</th>\n",
              "      <td>[[0, 0, 0, 0, 0, 0, 0, 0, 0, 0, 0, 0, 0, 0, 0,...</td>\n",
              "      <td>0</td>\n",
              "      <td>0</td>\n",
              "      <td>1</td>\n",
              "      <td>i saw a couple baums and steins in the victi a...</td>\n",
              "    </tr>\n",
              "    <tr>\n",
              "      <th>...</th>\n",
              "      <td>...</td>\n",
              "      <td>...</td>\n",
              "      <td>...</td>\n",
              "      <td>...</td>\n",
              "      <td>...</td>\n",
              "    </tr>\n",
              "    <tr>\n",
              "      <th>19222</th>\n",
              "      <td>[[0, 1, 1, 1], [0, 1, 1, 1]]</td>\n",
              "      <td>0</td>\n",
              "      <td>0</td>\n",
              "      <td>1</td>\n",
              "      <td>a negro honey trap</td>\n",
              "    </tr>\n",
              "    <tr>\n",
              "      <th>19223</th>\n",
              "      <td>[[0, 1, 1, 1, 1, 1, 0, 0, 1, 0, 0, 0, 0, 0, 0,...</td>\n",
              "      <td>0</td>\n",
              "      <td>0</td>\n",
              "      <td>1</td>\n",
              "      <td>this vile racist ghetto ass dumber than a reta...</td>\n",
              "    </tr>\n",
              "    <tr>\n",
              "      <th>19224</th>\n",
              "      <td>[[0, 0, 0, 0, 0, 0, 0, 0, 0, 0, 1, 1, 1, 1, 0,...</td>\n",
              "      <td>0</td>\n",
              "      <td>0</td>\n",
              "      <td>1</td>\n",
              "      <td>if ur sti will on twitter tell carlton i sai w...</td>\n",
              "    </tr>\n",
              "    <tr>\n",
              "      <th>19225</th>\n",
              "      <td>[[0, 0, 0, 0, 0, 0, 0, 0, 1, 1, 1, 1, 1, 0, 0,...</td>\n",
              "      <td>0</td>\n",
              "      <td>0</td>\n",
              "      <td>1</td>\n",
              "      <td>when i first got on here and sai would i hate ...</td>\n",
              "    </tr>\n",
              "    <tr>\n",
              "      <th>19228</th>\n",
              "      <td>[[0, 0, 0, 0, 0, 0, 0, 0, 1, 1, 1, 1, 1, 0, 0,...</td>\n",
              "      <td>0</td>\n",
              "      <td>0</td>\n",
              "      <td>1</td>\n",
              "      <td>the jewish globalist elite have only i amporte...</td>\n",
              "    </tr>\n",
              "  </tbody>\n",
              "</table>\n",
              "<p>5480 rows × 5 columns</p>\n",
              "</div>\n",
              "      <button class=\"colab-df-convert\" onclick=\"convertToInteractive('df-cb7285b7-e890-4dcf-9da4-801fb9ad286a')\"\n",
              "              title=\"Convert this dataframe to an interactive table.\"\n",
              "              style=\"display:none;\">\n",
              "        \n",
              "  <svg xmlns=\"http://www.w3.org/2000/svg\" height=\"24px\"viewBox=\"0 0 24 24\"\n",
              "       width=\"24px\">\n",
              "    <path d=\"M0 0h24v24H0V0z\" fill=\"none\"/>\n",
              "    <path d=\"M18.56 5.44l.94 2.06.94-2.06 2.06-.94-2.06-.94-.94-2.06-.94 2.06-2.06.94zm-11 1L8.5 8.5l.94-2.06 2.06-.94-2.06-.94L8.5 2.5l-.94 2.06-2.06.94zm10 10l.94 2.06.94-2.06 2.06-.94-2.06-.94-.94-2.06-.94 2.06-2.06.94z\"/><path d=\"M17.41 7.96l-1.37-1.37c-.4-.4-.92-.59-1.43-.59-.52 0-1.04.2-1.43.59L10.3 9.45l-7.72 7.72c-.78.78-.78 2.05 0 2.83L4 21.41c.39.39.9.59 1.41.59.51 0 1.02-.2 1.41-.59l7.78-7.78 2.81-2.81c.8-.78.8-2.07 0-2.86zM5.41 20L4 18.59l7.72-7.72 1.47 1.35L5.41 20z\"/>\n",
              "  </svg>\n",
              "      </button>\n",
              "      \n",
              "  <style>\n",
              "    .colab-df-container {\n",
              "      display:flex;\n",
              "      flex-wrap:wrap;\n",
              "      gap: 12px;\n",
              "    }\n",
              "\n",
              "    .colab-df-convert {\n",
              "      background-color: #E8F0FE;\n",
              "      border: none;\n",
              "      border-radius: 50%;\n",
              "      cursor: pointer;\n",
              "      display: none;\n",
              "      fill: #1967D2;\n",
              "      height: 32px;\n",
              "      padding: 0 0 0 0;\n",
              "      width: 32px;\n",
              "    }\n",
              "\n",
              "    .colab-df-convert:hover {\n",
              "      background-color: #E2EBFA;\n",
              "      box-shadow: 0px 1px 2px rgba(60, 64, 67, 0.3), 0px 1px 3px 1px rgba(60, 64, 67, 0.15);\n",
              "      fill: #174EA6;\n",
              "    }\n",
              "\n",
              "    [theme=dark] .colab-df-convert {\n",
              "      background-color: #3B4455;\n",
              "      fill: #D2E3FC;\n",
              "    }\n",
              "\n",
              "    [theme=dark] .colab-df-convert:hover {\n",
              "      background-color: #434B5C;\n",
              "      box-shadow: 0px 1px 3px 1px rgba(0, 0, 0, 0.15);\n",
              "      filter: drop-shadow(0px 1px 2px rgba(0, 0, 0, 0.3));\n",
              "      fill: #FFFFFF;\n",
              "    }\n",
              "  </style>\n",
              "\n",
              "      <script>\n",
              "        const buttonEl =\n",
              "          document.querySelector('#df-cb7285b7-e890-4dcf-9da4-801fb9ad286a button.colab-df-convert');\n",
              "        buttonEl.style.display =\n",
              "          google.colab.kernel.accessAllowed ? 'block' : 'none';\n",
              "\n",
              "        async function convertToInteractive(key) {\n",
              "          const element = document.querySelector('#df-cb7285b7-e890-4dcf-9da4-801fb9ad286a');\n",
              "          const dataTable =\n",
              "            await google.colab.kernel.invokeFunction('convertToInteractive',\n",
              "                                                     [key], {});\n",
              "          if (!dataTable) return;\n",
              "\n",
              "          const docLinkHtml = 'Like what you see? Visit the ' +\n",
              "            '<a target=\"_blank\" href=https://colab.research.google.com/notebooks/data_table.ipynb>data table notebook</a>'\n",
              "            + ' to learn more about interactive tables.';\n",
              "          element.innerHTML = '';\n",
              "          dataTable['output_type'] = 'display_data';\n",
              "          await google.colab.output.renderOutput(dataTable, element);\n",
              "          const docLink = document.createElement('div');\n",
              "          docLink.innerHTML = docLinkHtml;\n",
              "          element.appendChild(docLink);\n",
              "        }\n",
              "      </script>\n",
              "    </div>\n",
              "  </div>\n",
              "  "
            ]
          },
          "metadata": {},
          "execution_count": 46
        }
      ]
    },
    {
      "cell_type": "code",
      "source": [
        "from sklearn.metrics import accuracy_score\n",
        "from sklearn.metrics import f1_score\n",
        "from sklearn.metrics import roc_auc_score \n",
        "from sklearn.metrics import average_precision_score\n",
        "from sklearn.metrics import recall_score\n",
        "\n",
        "def print_evaluation_scores(y_test, predicted):\n",
        "    \n",
        "    print('Accuracy: ', accuracy_score(y_test, y_prediction, normalize=True))\n",
        "    print('F1-score macro: ', f1_score(y_test, y_prediction, average='macro'))\n",
        "    print('F1-score micro: ', f1_score(y_test, y_prediction, average='micro'))\n",
        "    print('F1-score weighted: ', f1_score(y_test, y_prediction, average='weighted'))\n",
        "    print('Precision macro: ', average_precision_score(y_test, y_prediction, average='macro'))\n",
        "    print('Precision micro: ', average_precision_score(y_test, y_prediction, average='micro'))\n",
        "    print('Precision weighted: ', average_precision_score(y_test, y_prediction, average='weighted'))\n",
        "    \n",
        "print('CNN-GRU\\n')\n",
        "print_evaluation_scores(y_test, y_hat)"
      ],
      "metadata": {
        "colab": {
          "base_uri": "https://localhost:8080/"
        },
        "id": "qoPxPT2XcV9l",
        "outputId": "a93b96ac-108d-4c29-9aaf-d24177b7b678"
      },
      "execution_count": 47,
      "outputs": [
        {
          "output_type": "stream",
          "name": "stdout",
          "text": [
            "CNN-GRU\n",
            "\n",
            "Accuracy:  0.6203848153926157\n",
            "F1-score macro:  0.6035744874791301\n",
            "F1-score micro:  0.6203848153926157\n",
            "F1-score weighted:  0.6167750047240811\n",
            "Precision macro:  0.5019906909960107\n",
            "Precision micro:  0.511415714038858\n",
            "Precision weighted:  0.5154278696420271\n"
          ]
        }
      ]
    },
    {
      "cell_type": "code",
      "source": [],
      "metadata": {
        "id": "K9WXtmEtclK8"
      },
      "execution_count": 47,
      "outputs": []
    }
  ]
}